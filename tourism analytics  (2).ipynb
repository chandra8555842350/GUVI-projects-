{
 "cells": [
  {
   "cell_type": "code",
   "execution_count": 101,
   "id": "5411cf55-44b7-49c8-960e-82a2e80f5303",
   "metadata": {},
   "outputs": [],
   "source": [
    "# import required libraries \n",
    "\n",
    "import pandas as pd \n",
    "import numpy as np \n",
    "import matplotlib.pyplot as plt \n",
    "import seaborn as sns \n",
    "import warnings\n",
    "warnings.filterwarnings('ignore')"
   ]
  },
  {
   "cell_type": "code",
   "execution_count": 102,
   "id": "ac53dbf4-b3d7-4563-8983-ee1ebfa2190a",
   "metadata": {},
   "outputs": [],
   "source": [
    "# load the data \n",
    "\n",
    "transactions = pd.read_excel('Transaction.xlsx')\n",
    "users = pd.read_excel(\"User.xlsx\")\n",
    "cities = pd.read_excel('City.xlsx')\n",
    "types = pd.read_excel('Type.xlsx')\n",
    "visit_modes = pd.read_excel('Mode.xlsx')\n",
    "continents = pd.read_excel('Continent.xlsx')\n",
    "countries = pd.read_excel('Country.xlsx')\n",
    "regions = pd.read_excel('Region.xlsx')\n",
    "items = pd.read_excel('Updated_Item.xlsx')"
   ]
  },
  {
   "cell_type": "code",
   "execution_count": 103,
   "id": "fef7e03c-06fb-4556-8d9e-913ca347d715",
   "metadata": {},
   "outputs": [
    {
     "data": {
      "text/html": [
       "<div>\n",
       "<style scoped>\n",
       "    .dataframe tbody tr th:only-of-type {\n",
       "        vertical-align: middle;\n",
       "    }\n",
       "\n",
       "    .dataframe tbody tr th {\n",
       "        vertical-align: top;\n",
       "    }\n",
       "\n",
       "    .dataframe thead th {\n",
       "        text-align: right;\n",
       "    }\n",
       "</style>\n",
       "<table border=\"1\" class=\"dataframe\">\n",
       "  <thead>\n",
       "    <tr style=\"text-align: right;\">\n",
       "      <th></th>\n",
       "      <th>UserId</th>\n",
       "      <th>ContinentId</th>\n",
       "      <th>RegionId</th>\n",
       "      <th>CountryId</th>\n",
       "      <th>CityId</th>\n",
       "    </tr>\n",
       "  </thead>\n",
       "  <tbody>\n",
       "    <tr>\n",
       "      <th>0</th>\n",
       "      <td>14</td>\n",
       "      <td>5</td>\n",
       "      <td>20</td>\n",
       "      <td>155</td>\n",
       "      <td>220.0</td>\n",
       "    </tr>\n",
       "  </tbody>\n",
       "</table>\n",
       "</div>"
      ],
      "text/plain": [
       "   UserId  ContinentId  RegionId  CountryId  CityId\n",
       "0      14            5        20        155   220.0"
      ]
     },
     "execution_count": 103,
     "metadata": {},
     "output_type": "execute_result"
    }
   ],
   "source": [
    "users.head(1)"
   ]
  },
  {
   "cell_type": "code",
   "execution_count": 104,
   "id": "ca9210ca-86cb-4cb7-886e-dae4fd626351",
   "metadata": {},
   "outputs": [
    {
     "data": {
      "text/html": [
       "<div>\n",
       "<style scoped>\n",
       "    .dataframe tbody tr th:only-of-type {\n",
       "        vertical-align: middle;\n",
       "    }\n",
       "\n",
       "    .dataframe tbody tr th {\n",
       "        vertical-align: top;\n",
       "    }\n",
       "\n",
       "    .dataframe thead th {\n",
       "        text-align: right;\n",
       "    }\n",
       "</style>\n",
       "<table border=\"1\" class=\"dataframe\">\n",
       "  <thead>\n",
       "    <tr style=\"text-align: right;\">\n",
       "      <th></th>\n",
       "      <th>CityId</th>\n",
       "      <th>CityName</th>\n",
       "      <th>CountryId</th>\n",
       "    </tr>\n",
       "  </thead>\n",
       "  <tbody>\n",
       "    <tr>\n",
       "      <th>0</th>\n",
       "      <td>0</td>\n",
       "      <td>-</td>\n",
       "      <td>0</td>\n",
       "    </tr>\n",
       "  </tbody>\n",
       "</table>\n",
       "</div>"
      ],
      "text/plain": [
       "   CityId CityName  CountryId\n",
       "0       0        -          0"
      ]
     },
     "execution_count": 104,
     "metadata": {},
     "output_type": "execute_result"
    }
   ],
   "source": [
    "cities.head(1)"
   ]
  },
  {
   "cell_type": "code",
   "execution_count": 105,
   "id": "f89a3c8c-e823-48f7-a5f0-2d0d6ea9eb57",
   "metadata": {},
   "outputs": [
    {
     "data": {
      "text/html": [
       "<div>\n",
       "<style scoped>\n",
       "    .dataframe tbody tr th:only-of-type {\n",
       "        vertical-align: middle;\n",
       "    }\n",
       "\n",
       "    .dataframe tbody tr th {\n",
       "        vertical-align: top;\n",
       "    }\n",
       "\n",
       "    .dataframe thead th {\n",
       "        text-align: right;\n",
       "    }\n",
       "</style>\n",
       "<table border=\"1\" class=\"dataframe\">\n",
       "  <thead>\n",
       "    <tr style=\"text-align: right;\">\n",
       "      <th></th>\n",
       "      <th>UserId</th>\n",
       "      <th>ContinentId</th>\n",
       "      <th>RegionId</th>\n",
       "      <th>CountryId</th>\n",
       "      <th>CityId</th>\n",
       "      <th>CityName</th>\n",
       "    </tr>\n",
       "  </thead>\n",
       "  <tbody>\n",
       "    <tr>\n",
       "      <th>0</th>\n",
       "      <td>14</td>\n",
       "      <td>5</td>\n",
       "      <td>20</td>\n",
       "      <td>155</td>\n",
       "      <td>220.0</td>\n",
       "      <td>Lagos</td>\n",
       "    </tr>\n",
       "  </tbody>\n",
       "</table>\n",
       "</div>"
      ],
      "text/plain": [
       "   UserId  ContinentId  RegionId  CountryId  CityId CityName\n",
       "0      14            5        20        155   220.0    Lagos"
      ]
     },
     "execution_count": 105,
     "metadata": {},
     "output_type": "execute_result"
    }
   ],
   "source": [
    "users_full = users.merge(cities[['CityId','CityName']], on = 'CityId', how = 'left')\n",
    "users_full.head(1)"
   ]
  },
  {
   "cell_type": "code",
   "execution_count": 106,
   "id": "29e34a11-6a46-4656-9b95-a9cdb5fed0d3",
   "metadata": {},
   "outputs": [
    {
     "data": {
      "text/html": [
       "<div>\n",
       "<style scoped>\n",
       "    .dataframe tbody tr th:only-of-type {\n",
       "        vertical-align: middle;\n",
       "    }\n",
       "\n",
       "    .dataframe tbody tr th {\n",
       "        vertical-align: top;\n",
       "    }\n",
       "\n",
       "    .dataframe thead th {\n",
       "        text-align: right;\n",
       "    }\n",
       "</style>\n",
       "<table border=\"1\" class=\"dataframe\">\n",
       "  <thead>\n",
       "    <tr style=\"text-align: right;\">\n",
       "      <th></th>\n",
       "      <th>ContinentId</th>\n",
       "      <th>Continent</th>\n",
       "    </tr>\n",
       "  </thead>\n",
       "  <tbody>\n",
       "    <tr>\n",
       "      <th>0</th>\n",
       "      <td>0</td>\n",
       "      <td>-</td>\n",
       "    </tr>\n",
       "  </tbody>\n",
       "</table>\n",
       "</div>"
      ],
      "text/plain": [
       "   ContinentId Continent\n",
       "0            0         -"
      ]
     },
     "execution_count": 106,
     "metadata": {},
     "output_type": "execute_result"
    }
   ],
   "source": [
    "continents.head(1)"
   ]
  },
  {
   "cell_type": "code",
   "execution_count": 107,
   "id": "9f84cbe7-dd61-4e8f-94aa-f56a9b1af94d",
   "metadata": {},
   "outputs": [
    {
     "data": {
      "text/html": [
       "<div>\n",
       "<style scoped>\n",
       "    .dataframe tbody tr th:only-of-type {\n",
       "        vertical-align: middle;\n",
       "    }\n",
       "\n",
       "    .dataframe tbody tr th {\n",
       "        vertical-align: top;\n",
       "    }\n",
       "\n",
       "    .dataframe thead th {\n",
       "        text-align: right;\n",
       "    }\n",
       "</style>\n",
       "<table border=\"1\" class=\"dataframe\">\n",
       "  <thead>\n",
       "    <tr style=\"text-align: right;\">\n",
       "      <th></th>\n",
       "      <th>UserId</th>\n",
       "      <th>ContinentId</th>\n",
       "      <th>RegionId</th>\n",
       "      <th>CountryId</th>\n",
       "      <th>CityId</th>\n",
       "      <th>CityName</th>\n",
       "      <th>Continent</th>\n",
       "    </tr>\n",
       "  </thead>\n",
       "  <tbody>\n",
       "    <tr>\n",
       "      <th>0</th>\n",
       "      <td>14</td>\n",
       "      <td>5</td>\n",
       "      <td>20</td>\n",
       "      <td>155</td>\n",
       "      <td>220.0</td>\n",
       "      <td>Lagos</td>\n",
       "      <td>Europe</td>\n",
       "    </tr>\n",
       "  </tbody>\n",
       "</table>\n",
       "</div>"
      ],
      "text/plain": [
       "   UserId  ContinentId  RegionId  CountryId  CityId CityName Continent\n",
       "0      14            5        20        155   220.0    Lagos    Europe"
      ]
     },
     "execution_count": 107,
     "metadata": {},
     "output_type": "execute_result"
    }
   ],
   "source": [
    "users_full = users_full.merge(continents, on = 'ContinentId', how = 'left')\n",
    "users_full.head(1)"
   ]
  },
  {
   "cell_type": "code",
   "execution_count": 108,
   "id": "4c923823-863d-45c4-91cc-434bb21d015d",
   "metadata": {},
   "outputs": [
    {
     "data": {
      "text/html": [
       "<div>\n",
       "<style scoped>\n",
       "    .dataframe tbody tr th:only-of-type {\n",
       "        vertical-align: middle;\n",
       "    }\n",
       "\n",
       "    .dataframe tbody tr th {\n",
       "        vertical-align: top;\n",
       "    }\n",
       "\n",
       "    .dataframe thead th {\n",
       "        text-align: right;\n",
       "    }\n",
       "</style>\n",
       "<table border=\"1\" class=\"dataframe\">\n",
       "  <thead>\n",
       "    <tr style=\"text-align: right;\">\n",
       "      <th></th>\n",
       "      <th>CountryId</th>\n",
       "      <th>Country</th>\n",
       "      <th>RegionId</th>\n",
       "    </tr>\n",
       "  </thead>\n",
       "  <tbody>\n",
       "    <tr>\n",
       "      <th>0</th>\n",
       "      <td>0</td>\n",
       "      <td>-</td>\n",
       "      <td>0</td>\n",
       "    </tr>\n",
       "  </tbody>\n",
       "</table>\n",
       "</div>"
      ],
      "text/plain": [
       "   CountryId Country  RegionId\n",
       "0          0       -         0"
      ]
     },
     "execution_count": 108,
     "metadata": {},
     "output_type": "execute_result"
    }
   ],
   "source": [
    "countries.head(1)"
   ]
  },
  {
   "cell_type": "code",
   "execution_count": 109,
   "id": "cd3d6d93-72b9-472e-b6a5-cb71a67a0467",
   "metadata": {},
   "outputs": [
    {
     "data": {
      "text/html": [
       "<div>\n",
       "<style scoped>\n",
       "    .dataframe tbody tr th:only-of-type {\n",
       "        vertical-align: middle;\n",
       "    }\n",
       "\n",
       "    .dataframe tbody tr th {\n",
       "        vertical-align: top;\n",
       "    }\n",
       "\n",
       "    .dataframe thead th {\n",
       "        text-align: right;\n",
       "    }\n",
       "</style>\n",
       "<table border=\"1\" class=\"dataframe\">\n",
       "  <thead>\n",
       "    <tr style=\"text-align: right;\">\n",
       "      <th></th>\n",
       "      <th>UserId</th>\n",
       "      <th>ContinentId</th>\n",
       "      <th>RegionId</th>\n",
       "      <th>CountryId</th>\n",
       "      <th>CityId</th>\n",
       "      <th>CityName</th>\n",
       "      <th>Continent</th>\n",
       "      <th>Country</th>\n",
       "    </tr>\n",
       "  </thead>\n",
       "  <tbody>\n",
       "    <tr>\n",
       "      <th>0</th>\n",
       "      <td>14</td>\n",
       "      <td>5</td>\n",
       "      <td>20</td>\n",
       "      <td>155</td>\n",
       "      <td>220.0</td>\n",
       "      <td>Lagos</td>\n",
       "      <td>Europe</td>\n",
       "      <td>Portugal</td>\n",
       "    </tr>\n",
       "  </tbody>\n",
       "</table>\n",
       "</div>"
      ],
      "text/plain": [
       "   UserId  ContinentId  RegionId  CountryId  CityId CityName Continent  \\\n",
       "0      14            5        20        155   220.0    Lagos    Europe   \n",
       "\n",
       "    Country  \n",
       "0  Portugal  "
      ]
     },
     "execution_count": 109,
     "metadata": {},
     "output_type": "execute_result"
    }
   ],
   "source": [
    "\n",
    "users_full = users_full.merge(countries[['CountryId','Country']],on = 'CountryId',how ='left')\n",
    "users_full.head(1)"
   ]
  },
  {
   "cell_type": "code",
   "execution_count": 110,
   "id": "30eb19c6-d19e-4c31-a24f-293a31fe01a0",
   "metadata": {},
   "outputs": [
    {
     "data": {
      "text/html": [
       "<div>\n",
       "<style scoped>\n",
       "    .dataframe tbody tr th:only-of-type {\n",
       "        vertical-align: middle;\n",
       "    }\n",
       "\n",
       "    .dataframe tbody tr th {\n",
       "        vertical-align: top;\n",
       "    }\n",
       "\n",
       "    .dataframe thead th {\n",
       "        text-align: right;\n",
       "    }\n",
       "</style>\n",
       "<table border=\"1\" class=\"dataframe\">\n",
       "  <thead>\n",
       "    <tr style=\"text-align: right;\">\n",
       "      <th></th>\n",
       "      <th>Region</th>\n",
       "      <th>RegionId</th>\n",
       "      <th>ContinentId</th>\n",
       "    </tr>\n",
       "  </thead>\n",
       "  <tbody>\n",
       "    <tr>\n",
       "      <th>0</th>\n",
       "      <td>-</td>\n",
       "      <td>0</td>\n",
       "      <td>0</td>\n",
       "    </tr>\n",
       "  </tbody>\n",
       "</table>\n",
       "</div>"
      ],
      "text/plain": [
       "  Region  RegionId  ContinentId\n",
       "0      -         0            0"
      ]
     },
     "execution_count": 110,
     "metadata": {},
     "output_type": "execute_result"
    }
   ],
   "source": [
    "regions.head(1)"
   ]
  },
  {
   "cell_type": "code",
   "execution_count": 111,
   "id": "74f5a277-02fc-45b1-8976-c076d4ea721f",
   "metadata": {},
   "outputs": [
    {
     "data": {
      "text/html": [
       "<div>\n",
       "<style scoped>\n",
       "    .dataframe tbody tr th:only-of-type {\n",
       "        vertical-align: middle;\n",
       "    }\n",
       "\n",
       "    .dataframe tbody tr th {\n",
       "        vertical-align: top;\n",
       "    }\n",
       "\n",
       "    .dataframe thead th {\n",
       "        text-align: right;\n",
       "    }\n",
       "</style>\n",
       "<table border=\"1\" class=\"dataframe\">\n",
       "  <thead>\n",
       "    <tr style=\"text-align: right;\">\n",
       "      <th></th>\n",
       "      <th>UserId</th>\n",
       "      <th>ContinentId</th>\n",
       "      <th>RegionId</th>\n",
       "      <th>CountryId</th>\n",
       "      <th>CityId</th>\n",
       "      <th>CityName</th>\n",
       "      <th>Continent</th>\n",
       "      <th>Country</th>\n",
       "      <th>Region</th>\n",
       "    </tr>\n",
       "  </thead>\n",
       "  <tbody>\n",
       "    <tr>\n",
       "      <th>0</th>\n",
       "      <td>14</td>\n",
       "      <td>5</td>\n",
       "      <td>20</td>\n",
       "      <td>155</td>\n",
       "      <td>220.0</td>\n",
       "      <td>Lagos</td>\n",
       "      <td>Europe</td>\n",
       "      <td>Portugal</td>\n",
       "      <td>Southern Europe</td>\n",
       "    </tr>\n",
       "  </tbody>\n",
       "</table>\n",
       "</div>"
      ],
      "text/plain": [
       "   UserId  ContinentId  RegionId  CountryId  CityId CityName Continent  \\\n",
       "0      14            5        20        155   220.0    Lagos    Europe   \n",
       "\n",
       "    Country           Region  \n",
       "0  Portugal  Southern Europe  "
      ]
     },
     "execution_count": 111,
     "metadata": {},
     "output_type": "execute_result"
    }
   ],
   "source": [
    "users_full = users_full.merge(regions[['Region','RegionId']], on = 'RegionId',how ='left')\n",
    "users_full.head(1)"
   ]
  },
  {
   "cell_type": "code",
   "execution_count": 112,
   "id": "85084828-e134-4cf0-b7c8-75530e259ee4",
   "metadata": {},
   "outputs": [
    {
     "data": {
      "text/html": [
       "<div>\n",
       "<style scoped>\n",
       "    .dataframe tbody tr th:only-of-type {\n",
       "        vertical-align: middle;\n",
       "    }\n",
       "\n",
       "    .dataframe tbody tr th {\n",
       "        vertical-align: top;\n",
       "    }\n",
       "\n",
       "    .dataframe thead th {\n",
       "        text-align: right;\n",
       "    }\n",
       "</style>\n",
       "<table border=\"1\" class=\"dataframe\">\n",
       "  <thead>\n",
       "    <tr style=\"text-align: right;\">\n",
       "      <th></th>\n",
       "      <th>AttractionTypeId</th>\n",
       "      <th>AttractionType</th>\n",
       "    </tr>\n",
       "  </thead>\n",
       "  <tbody>\n",
       "    <tr>\n",
       "      <th>0</th>\n",
       "      <td>2</td>\n",
       "      <td>Ancient Ruins</td>\n",
       "    </tr>\n",
       "  </tbody>\n",
       "</table>\n",
       "</div>"
      ],
      "text/plain": [
       "   AttractionTypeId AttractionType\n",
       "0                 2  Ancient Ruins"
      ]
     },
     "execution_count": 112,
     "metadata": {},
     "output_type": "execute_result"
    }
   ],
   "source": [
    "types.head(1)"
   ]
  },
  {
   "cell_type": "code",
   "execution_count": 113,
   "id": "bca03755-4233-4c28-88cb-7fbe2d2d11d0",
   "metadata": {},
   "outputs": [
    {
     "data": {
      "text/html": [
       "<div>\n",
       "<style scoped>\n",
       "    .dataframe tbody tr th:only-of-type {\n",
       "        vertical-align: middle;\n",
       "    }\n",
       "\n",
       "    .dataframe tbody tr th {\n",
       "        vertical-align: top;\n",
       "    }\n",
       "\n",
       "    .dataframe thead th {\n",
       "        text-align: right;\n",
       "    }\n",
       "</style>\n",
       "<table border=\"1\" class=\"dataframe\">\n",
       "  <thead>\n",
       "    <tr style=\"text-align: right;\">\n",
       "      <th></th>\n",
       "      <th>AttractionId</th>\n",
       "      <th>AttractionCityId</th>\n",
       "      <th>AttractionTypeId</th>\n",
       "      <th>Attraction</th>\n",
       "      <th>AttractionAddress</th>\n",
       "    </tr>\n",
       "  </thead>\n",
       "  <tbody>\n",
       "    <tr>\n",
       "      <th>0</th>\n",
       "      <td>369</td>\n",
       "      <td>1</td>\n",
       "      <td>13</td>\n",
       "      <td>Kuta Beach - Bali</td>\n",
       "      <td>Kuta</td>\n",
       "    </tr>\n",
       "  </tbody>\n",
       "</table>\n",
       "</div>"
      ],
      "text/plain": [
       "   AttractionId  AttractionCityId AttractionTypeId         Attraction  \\\n",
       "0           369                 1               13  Kuta Beach - Bali   \n",
       "\n",
       "  AttractionAddress  \n",
       "0              Kuta  "
      ]
     },
     "execution_count": 113,
     "metadata": {},
     "output_type": "execute_result"
    }
   ],
   "source": [
    "items.head(1)"
   ]
  },
  {
   "cell_type": "code",
   "execution_count": 114,
   "id": "110156ca-227f-44d0-8d47-90b6b3d1612b",
   "metadata": {},
   "outputs": [
    {
     "data": {
      "text/html": [
       "<div>\n",
       "<style scoped>\n",
       "    .dataframe tbody tr th:only-of-type {\n",
       "        vertical-align: middle;\n",
       "    }\n",
       "\n",
       "    .dataframe tbody tr th {\n",
       "        vertical-align: top;\n",
       "    }\n",
       "\n",
       "    .dataframe thead th {\n",
       "        text-align: right;\n",
       "    }\n",
       "</style>\n",
       "<table border=\"1\" class=\"dataframe\">\n",
       "  <thead>\n",
       "    <tr style=\"text-align: right;\">\n",
       "      <th></th>\n",
       "      <th>AttractionId</th>\n",
       "      <th>AttractionCityId</th>\n",
       "      <th>AttractionTypeId</th>\n",
       "      <th>Attraction</th>\n",
       "      <th>AttractionAddress</th>\n",
       "      <th>AttractionType</th>\n",
       "    </tr>\n",
       "  </thead>\n",
       "  <tbody>\n",
       "    <tr>\n",
       "      <th>0</th>\n",
       "      <td>369</td>\n",
       "      <td>1</td>\n",
       "      <td>13</td>\n",
       "      <td>Kuta Beach - Bali</td>\n",
       "      <td>Kuta</td>\n",
       "      <td>Beaches</td>\n",
       "    </tr>\n",
       "  </tbody>\n",
       "</table>\n",
       "</div>"
      ],
      "text/plain": [
       "   AttractionId  AttractionCityId AttractionTypeId         Attraction  \\\n",
       "0           369                 1               13  Kuta Beach - Bali   \n",
       "\n",
       "  AttractionAddress AttractionType  \n",
       "0              Kuta        Beaches  "
      ]
     },
     "execution_count": 114,
     "metadata": {},
     "output_type": "execute_result"
    }
   ],
   "source": [
    "items_full = items.merge(types, on ='AttractionTypeId' ,how = 'left')\n",
    "items_full.head(1)"
   ]
  },
  {
   "cell_type": "code",
   "execution_count": 115,
   "id": "a5115a43-3768-4a95-99df-3c0ebd67c5e9",
   "metadata": {},
   "outputs": [
    {
     "data": {
      "text/html": [
       "<div>\n",
       "<style scoped>\n",
       "    .dataframe tbody tr th:only-of-type {\n",
       "        vertical-align: middle;\n",
       "    }\n",
       "\n",
       "    .dataframe tbody tr th {\n",
       "        vertical-align: top;\n",
       "    }\n",
       "\n",
       "    .dataframe thead th {\n",
       "        text-align: right;\n",
       "    }\n",
       "</style>\n",
       "<table border=\"1\" class=\"dataframe\">\n",
       "  <thead>\n",
       "    <tr style=\"text-align: right;\">\n",
       "      <th></th>\n",
       "      <th>VisitModeId</th>\n",
       "      <th>VisitMode</th>\n",
       "    </tr>\n",
       "  </thead>\n",
       "  <tbody>\n",
       "    <tr>\n",
       "      <th>0</th>\n",
       "      <td>0</td>\n",
       "      <td>-</td>\n",
       "    </tr>\n",
       "    <tr>\n",
       "      <th>1</th>\n",
       "      <td>1</td>\n",
       "      <td>Business</td>\n",
       "    </tr>\n",
       "    <tr>\n",
       "      <th>2</th>\n",
       "      <td>2</td>\n",
       "      <td>Couples</td>\n",
       "    </tr>\n",
       "    <tr>\n",
       "      <th>3</th>\n",
       "      <td>3</td>\n",
       "      <td>Family</td>\n",
       "    </tr>\n",
       "    <tr>\n",
       "      <th>4</th>\n",
       "      <td>4</td>\n",
       "      <td>Friends</td>\n",
       "    </tr>\n",
       "    <tr>\n",
       "      <th>5</th>\n",
       "      <td>5</td>\n",
       "      <td>Solo</td>\n",
       "    </tr>\n",
       "  </tbody>\n",
       "</table>\n",
       "</div>"
      ],
      "text/plain": [
       "   VisitModeId VisitMode\n",
       "0            0         -\n",
       "1            1  Business\n",
       "2            2   Couples\n",
       "3            3    Family\n",
       "4            4   Friends\n",
       "5            5      Solo"
      ]
     },
     "execution_count": 115,
     "metadata": {},
     "output_type": "execute_result"
    }
   ],
   "source": [
    "visit_modes.head(10)"
   ]
  },
  {
   "cell_type": "code",
   "execution_count": 116,
   "id": "02c1ed34-6013-45f5-9c47-ee892901596a",
   "metadata": {},
   "outputs": [
    {
     "data": {
      "text/html": [
       "<div>\n",
       "<style scoped>\n",
       "    .dataframe tbody tr th:only-of-type {\n",
       "        vertical-align: middle;\n",
       "    }\n",
       "\n",
       "    .dataframe tbody tr th {\n",
       "        vertical-align: top;\n",
       "    }\n",
       "\n",
       "    .dataframe thead th {\n",
       "        text-align: right;\n",
       "    }\n",
       "</style>\n",
       "<table border=\"1\" class=\"dataframe\">\n",
       "  <thead>\n",
       "    <tr style=\"text-align: right;\">\n",
       "      <th></th>\n",
       "      <th>TransactionId</th>\n",
       "      <th>UserId</th>\n",
       "      <th>VisitYear</th>\n",
       "      <th>VisitMonth</th>\n",
       "      <th>VisitMode</th>\n",
       "      <th>AttractionId</th>\n",
       "      <th>Rating</th>\n",
       "    </tr>\n",
       "  </thead>\n",
       "  <tbody>\n",
       "    <tr>\n",
       "      <th>0</th>\n",
       "      <td>3</td>\n",
       "      <td>70456</td>\n",
       "      <td>2022</td>\n",
       "      <td>10</td>\n",
       "      <td>2</td>\n",
       "      <td>640</td>\n",
       "      <td>5</td>\n",
       "    </tr>\n",
       "  </tbody>\n",
       "</table>\n",
       "</div>"
      ],
      "text/plain": [
       "   TransactionId  UserId  VisitYear  VisitMonth  VisitMode  AttractionId  \\\n",
       "0              3   70456       2022          10          2           640   \n",
       "\n",
       "   Rating  \n",
       "0       5  "
      ]
     },
     "execution_count": 116,
     "metadata": {},
     "output_type": "execute_result"
    }
   ],
   "source": [
    "transactions.head(1)"
   ]
  },
  {
   "cell_type": "code",
   "execution_count": 117,
   "id": "16fd9720-7978-4a71-9569-b339a13ea3fa",
   "metadata": {},
   "outputs": [
    {
     "data": {
      "text/html": [
       "<div>\n",
       "<style scoped>\n",
       "    .dataframe tbody tr th:only-of-type {\n",
       "        vertical-align: middle;\n",
       "    }\n",
       "\n",
       "    .dataframe tbody tr th {\n",
       "        vertical-align: top;\n",
       "    }\n",
       "\n",
       "    .dataframe thead th {\n",
       "        text-align: right;\n",
       "    }\n",
       "</style>\n",
       "<table border=\"1\" class=\"dataframe\">\n",
       "  <thead>\n",
       "    <tr style=\"text-align: right;\">\n",
       "      <th></th>\n",
       "      <th>TransactionId</th>\n",
       "      <th>UserId</th>\n",
       "      <th>VisitYear</th>\n",
       "      <th>VisitMonth</th>\n",
       "      <th>VisitModeId</th>\n",
       "      <th>AttractionId</th>\n",
       "      <th>Rating</th>\n",
       "    </tr>\n",
       "  </thead>\n",
       "  <tbody>\n",
       "    <tr>\n",
       "      <th>0</th>\n",
       "      <td>3</td>\n",
       "      <td>70456</td>\n",
       "      <td>2022</td>\n",
       "      <td>10</td>\n",
       "      <td>2</td>\n",
       "      <td>640</td>\n",
       "      <td>5</td>\n",
       "    </tr>\n",
       "    <tr>\n",
       "      <th>1</th>\n",
       "      <td>8</td>\n",
       "      <td>7567</td>\n",
       "      <td>2022</td>\n",
       "      <td>10</td>\n",
       "      <td>4</td>\n",
       "      <td>640</td>\n",
       "      <td>5</td>\n",
       "    </tr>\n",
       "    <tr>\n",
       "      <th>2</th>\n",
       "      <td>9</td>\n",
       "      <td>79069</td>\n",
       "      <td>2022</td>\n",
       "      <td>10</td>\n",
       "      <td>3</td>\n",
       "      <td>640</td>\n",
       "      <td>5</td>\n",
       "    </tr>\n",
       "    <tr>\n",
       "      <th>3</th>\n",
       "      <td>10</td>\n",
       "      <td>31019</td>\n",
       "      <td>2022</td>\n",
       "      <td>10</td>\n",
       "      <td>3</td>\n",
       "      <td>640</td>\n",
       "      <td>3</td>\n",
       "    </tr>\n",
       "    <tr>\n",
       "      <th>4</th>\n",
       "      <td>15</td>\n",
       "      <td>43611</td>\n",
       "      <td>2022</td>\n",
       "      <td>10</td>\n",
       "      <td>2</td>\n",
       "      <td>640</td>\n",
       "      <td>3</td>\n",
       "    </tr>\n",
       "  </tbody>\n",
       "</table>\n",
       "</div>"
      ],
      "text/plain": [
       "   TransactionId  UserId  VisitYear  VisitMonth  VisitModeId  AttractionId  \\\n",
       "0              3   70456       2022          10            2           640   \n",
       "1              8    7567       2022          10            4           640   \n",
       "2              9   79069       2022          10            3           640   \n",
       "3             10   31019       2022          10            3           640   \n",
       "4             15   43611       2022          10            2           640   \n",
       "\n",
       "   Rating  \n",
       "0       5  \n",
       "1       5  \n",
       "2       5  \n",
       "3       3  \n",
       "4       3  "
      ]
     },
     "execution_count": 117,
     "metadata": {},
     "output_type": "execute_result"
    }
   ],
   "source": [
    "transactions.rename(columns = {'VisitMode':'VisitModeId'},inplace = True)\n",
    "transactions.head()"
   ]
  },
  {
   "cell_type": "code",
   "execution_count": 118,
   "id": "1e2f98f3-ea2e-4bcb-a1bd-3972b6c8c492",
   "metadata": {},
   "outputs": [
    {
     "data": {
      "text/plain": [
       "VisitModeId\n",
       "2    21620\n",
       "3    15217\n",
       "4    10945\n",
       "5     4525\n",
       "1      623\n",
       "Name: count, dtype: int64"
      ]
     },
     "execution_count": 118,
     "metadata": {},
     "output_type": "execute_result"
    }
   ],
   "source": [
    "transactions['VisitModeId'].value_counts()"
   ]
  },
  {
   "cell_type": "code",
   "execution_count": 119,
   "id": "116b5597-42c7-4882-a560-35c00f50a520",
   "metadata": {},
   "outputs": [
    {
     "data": {
      "text/plain": [
       "VisitModeId\n",
       "0    1\n",
       "1    1\n",
       "2    1\n",
       "3    1\n",
       "4    1\n",
       "5    1\n",
       "Name: count, dtype: int64"
      ]
     },
     "execution_count": 119,
     "metadata": {},
     "output_type": "execute_result"
    }
   ],
   "source": [
    "visit_modes['VisitModeId'].value_counts()"
   ]
  },
  {
   "cell_type": "code",
   "execution_count": 120,
   "id": "632b4831-3faa-429f-8741-0e8e702a4f9c",
   "metadata": {},
   "outputs": [
    {
     "data": {
      "text/html": [
       "<div>\n",
       "<style scoped>\n",
       "    .dataframe tbody tr th:only-of-type {\n",
       "        vertical-align: middle;\n",
       "    }\n",
       "\n",
       "    .dataframe tbody tr th {\n",
       "        vertical-align: top;\n",
       "    }\n",
       "\n",
       "    .dataframe thead th {\n",
       "        text-align: right;\n",
       "    }\n",
       "</style>\n",
       "<table border=\"1\" class=\"dataframe\">\n",
       "  <thead>\n",
       "    <tr style=\"text-align: right;\">\n",
       "      <th></th>\n",
       "      <th>TransactionId</th>\n",
       "      <th>UserId</th>\n",
       "      <th>VisitYear</th>\n",
       "      <th>VisitMonth</th>\n",
       "      <th>VisitModeId</th>\n",
       "      <th>AttractionId</th>\n",
       "      <th>Rating</th>\n",
       "      <th>VisitMode</th>\n",
       "    </tr>\n",
       "  </thead>\n",
       "  <tbody>\n",
       "    <tr>\n",
       "      <th>0</th>\n",
       "      <td>3</td>\n",
       "      <td>70456</td>\n",
       "      <td>2022</td>\n",
       "      <td>10</td>\n",
       "      <td>2</td>\n",
       "      <td>640</td>\n",
       "      <td>5</td>\n",
       "      <td>Couples</td>\n",
       "    </tr>\n",
       "    <tr>\n",
       "      <th>1</th>\n",
       "      <td>8</td>\n",
       "      <td>7567</td>\n",
       "      <td>2022</td>\n",
       "      <td>10</td>\n",
       "      <td>4</td>\n",
       "      <td>640</td>\n",
       "      <td>5</td>\n",
       "      <td>Friends</td>\n",
       "    </tr>\n",
       "    <tr>\n",
       "      <th>2</th>\n",
       "      <td>9</td>\n",
       "      <td>79069</td>\n",
       "      <td>2022</td>\n",
       "      <td>10</td>\n",
       "      <td>3</td>\n",
       "      <td>640</td>\n",
       "      <td>5</td>\n",
       "      <td>Family</td>\n",
       "    </tr>\n",
       "    <tr>\n",
       "      <th>3</th>\n",
       "      <td>10</td>\n",
       "      <td>31019</td>\n",
       "      <td>2022</td>\n",
       "      <td>10</td>\n",
       "      <td>3</td>\n",
       "      <td>640</td>\n",
       "      <td>3</td>\n",
       "      <td>Family</td>\n",
       "    </tr>\n",
       "    <tr>\n",
       "      <th>4</th>\n",
       "      <td>15</td>\n",
       "      <td>43611</td>\n",
       "      <td>2022</td>\n",
       "      <td>10</td>\n",
       "      <td>2</td>\n",
       "      <td>640</td>\n",
       "      <td>3</td>\n",
       "      <td>Couples</td>\n",
       "    </tr>\n",
       "  </tbody>\n",
       "</table>\n",
       "</div>"
      ],
      "text/plain": [
       "   TransactionId  UserId  VisitYear  VisitMonth  VisitModeId  AttractionId  \\\n",
       "0              3   70456       2022          10            2           640   \n",
       "1              8    7567       2022          10            4           640   \n",
       "2              9   79069       2022          10            3           640   \n",
       "3             10   31019       2022          10            3           640   \n",
       "4             15   43611       2022          10            2           640   \n",
       "\n",
       "   Rating VisitMode  \n",
       "0       5   Couples  \n",
       "1       5   Friends  \n",
       "2       5    Family  \n",
       "3       3    Family  \n",
       "4       3   Couples  "
      ]
     },
     "execution_count": 120,
     "metadata": {},
     "output_type": "execute_result"
    }
   ],
   "source": [
    "transactions_full = transactions.merge(visit_modes , on = 'VisitModeId',how = 'left')\n",
    "transactions_full.head()"
   ]
  },
  {
   "cell_type": "code",
   "execution_count": 121,
   "id": "99d19a25-3c91-4f53-abb0-d6a3612f9ca1",
   "metadata": {},
   "outputs": [
    {
     "data": {
      "text/html": [
       "<div>\n",
       "<style scoped>\n",
       "    .dataframe tbody tr th:only-of-type {\n",
       "        vertical-align: middle;\n",
       "    }\n",
       "\n",
       "    .dataframe tbody tr th {\n",
       "        vertical-align: top;\n",
       "    }\n",
       "\n",
       "    .dataframe thead th {\n",
       "        text-align: right;\n",
       "    }\n",
       "</style>\n",
       "<table border=\"1\" class=\"dataframe\">\n",
       "  <thead>\n",
       "    <tr style=\"text-align: right;\">\n",
       "      <th></th>\n",
       "      <th>TransactionId</th>\n",
       "      <th>UserId</th>\n",
       "      <th>VisitYear</th>\n",
       "      <th>VisitMonth</th>\n",
       "      <th>VisitModeId</th>\n",
       "      <th>AttractionId</th>\n",
       "      <th>Rating</th>\n",
       "      <th>VisitMode</th>\n",
       "      <th>AttractionCityId</th>\n",
       "      <th>AttractionTypeId</th>\n",
       "      <th>Attraction</th>\n",
       "      <th>AttractionAddress</th>\n",
       "      <th>AttractionType</th>\n",
       "    </tr>\n",
       "  </thead>\n",
       "  <tbody>\n",
       "    <tr>\n",
       "      <th>0</th>\n",
       "      <td>3</td>\n",
       "      <td>70456</td>\n",
       "      <td>2022</td>\n",
       "      <td>10</td>\n",
       "      <td>2</td>\n",
       "      <td>640</td>\n",
       "      <td>5</td>\n",
       "      <td>Couples</td>\n",
       "      <td>1</td>\n",
       "      <td>63</td>\n",
       "      <td>Sacred Monkey Forest Sanctuary</td>\n",
       "      <td>Jl. Monkey Forest, Ubud 80571 Indonesia</td>\n",
       "      <td>Nature &amp; Wildlife Areas</td>\n",
       "    </tr>\n",
       "    <tr>\n",
       "      <th>1</th>\n",
       "      <td>8</td>\n",
       "      <td>7567</td>\n",
       "      <td>2022</td>\n",
       "      <td>10</td>\n",
       "      <td>4</td>\n",
       "      <td>640</td>\n",
       "      <td>5</td>\n",
       "      <td>Friends</td>\n",
       "      <td>1</td>\n",
       "      <td>63</td>\n",
       "      <td>Sacred Monkey Forest Sanctuary</td>\n",
       "      <td>Jl. Monkey Forest, Ubud 80571 Indonesia</td>\n",
       "      <td>Nature &amp; Wildlife Areas</td>\n",
       "    </tr>\n",
       "    <tr>\n",
       "      <th>2</th>\n",
       "      <td>9</td>\n",
       "      <td>79069</td>\n",
       "      <td>2022</td>\n",
       "      <td>10</td>\n",
       "      <td>3</td>\n",
       "      <td>640</td>\n",
       "      <td>5</td>\n",
       "      <td>Family</td>\n",
       "      <td>1</td>\n",
       "      <td>63</td>\n",
       "      <td>Sacred Monkey Forest Sanctuary</td>\n",
       "      <td>Jl. Monkey Forest, Ubud 80571 Indonesia</td>\n",
       "      <td>Nature &amp; Wildlife Areas</td>\n",
       "    </tr>\n",
       "    <tr>\n",
       "      <th>3</th>\n",
       "      <td>10</td>\n",
       "      <td>31019</td>\n",
       "      <td>2022</td>\n",
       "      <td>10</td>\n",
       "      <td>3</td>\n",
       "      <td>640</td>\n",
       "      <td>3</td>\n",
       "      <td>Family</td>\n",
       "      <td>1</td>\n",
       "      <td>63</td>\n",
       "      <td>Sacred Monkey Forest Sanctuary</td>\n",
       "      <td>Jl. Monkey Forest, Ubud 80571 Indonesia</td>\n",
       "      <td>Nature &amp; Wildlife Areas</td>\n",
       "    </tr>\n",
       "    <tr>\n",
       "      <th>4</th>\n",
       "      <td>15</td>\n",
       "      <td>43611</td>\n",
       "      <td>2022</td>\n",
       "      <td>10</td>\n",
       "      <td>2</td>\n",
       "      <td>640</td>\n",
       "      <td>3</td>\n",
       "      <td>Couples</td>\n",
       "      <td>1</td>\n",
       "      <td>63</td>\n",
       "      <td>Sacred Monkey Forest Sanctuary</td>\n",
       "      <td>Jl. Monkey Forest, Ubud 80571 Indonesia</td>\n",
       "      <td>Nature &amp; Wildlife Areas</td>\n",
       "    </tr>\n",
       "  </tbody>\n",
       "</table>\n",
       "</div>"
      ],
      "text/plain": [
       "   TransactionId  UserId  VisitYear  VisitMonth  VisitModeId  AttractionId  \\\n",
       "0              3   70456       2022          10            2           640   \n",
       "1              8    7567       2022          10            4           640   \n",
       "2              9   79069       2022          10            3           640   \n",
       "3             10   31019       2022          10            3           640   \n",
       "4             15   43611       2022          10            2           640   \n",
       "\n",
       "   Rating VisitMode  AttractionCityId AttractionTypeId  \\\n",
       "0       5   Couples                 1               63   \n",
       "1       5   Friends                 1               63   \n",
       "2       5    Family                 1               63   \n",
       "3       3    Family                 1               63   \n",
       "4       3   Couples                 1               63   \n",
       "\n",
       "                       Attraction                        AttractionAddress  \\\n",
       "0  Sacred Monkey Forest Sanctuary  Jl. Monkey Forest, Ubud 80571 Indonesia   \n",
       "1  Sacred Monkey Forest Sanctuary  Jl. Monkey Forest, Ubud 80571 Indonesia   \n",
       "2  Sacred Monkey Forest Sanctuary  Jl. Monkey Forest, Ubud 80571 Indonesia   \n",
       "3  Sacred Monkey Forest Sanctuary  Jl. Monkey Forest, Ubud 80571 Indonesia   \n",
       "4  Sacred Monkey Forest Sanctuary  Jl. Monkey Forest, Ubud 80571 Indonesia   \n",
       "\n",
       "            AttractionType  \n",
       "0  Nature & Wildlife Areas  \n",
       "1  Nature & Wildlife Areas  \n",
       "2  Nature & Wildlife Areas  \n",
       "3  Nature & Wildlife Areas  \n",
       "4  Nature & Wildlife Areas  "
      ]
     },
     "execution_count": 121,
     "metadata": {},
     "output_type": "execute_result"
    }
   ],
   "source": [
    "df = transactions_full.merge(items_full ,on = 'AttractionId' , how = 'left')\n",
    "df.head()"
   ]
  },
  {
   "cell_type": "code",
   "execution_count": 122,
   "id": "4a7490b4-79a2-4158-99b1-c71902b607f4",
   "metadata": {},
   "outputs": [
    {
     "data": {
      "text/html": [
       "<div>\n",
       "<style scoped>\n",
       "    .dataframe tbody tr th:only-of-type {\n",
       "        vertical-align: middle;\n",
       "    }\n",
       "\n",
       "    .dataframe tbody tr th {\n",
       "        vertical-align: top;\n",
       "    }\n",
       "\n",
       "    .dataframe thead th {\n",
       "        text-align: right;\n",
       "    }\n",
       "</style>\n",
       "<table border=\"1\" class=\"dataframe\">\n",
       "  <thead>\n",
       "    <tr style=\"text-align: right;\">\n",
       "      <th></th>\n",
       "      <th>TransactionId</th>\n",
       "      <th>UserId</th>\n",
       "      <th>VisitYear</th>\n",
       "      <th>VisitMonth</th>\n",
       "      <th>VisitModeId</th>\n",
       "      <th>AttractionId</th>\n",
       "      <th>Rating</th>\n",
       "      <th>VisitMode</th>\n",
       "      <th>AttractionCityId</th>\n",
       "      <th>AttractionTypeId</th>\n",
       "      <th>...</th>\n",
       "      <th>AttractionAddress</th>\n",
       "      <th>AttractionType</th>\n",
       "      <th>ContinentId</th>\n",
       "      <th>RegionId</th>\n",
       "      <th>CountryId</th>\n",
       "      <th>CityId</th>\n",
       "      <th>CityName</th>\n",
       "      <th>Continent</th>\n",
       "      <th>Country</th>\n",
       "      <th>Region</th>\n",
       "    </tr>\n",
       "  </thead>\n",
       "  <tbody>\n",
       "    <tr>\n",
       "      <th>0</th>\n",
       "      <td>3</td>\n",
       "      <td>70456</td>\n",
       "      <td>2022</td>\n",
       "      <td>10</td>\n",
       "      <td>2</td>\n",
       "      <td>640</td>\n",
       "      <td>5</td>\n",
       "      <td>Couples</td>\n",
       "      <td>1</td>\n",
       "      <td>63</td>\n",
       "      <td>...</td>\n",
       "      <td>Jl. Monkey Forest, Ubud 80571 Indonesia</td>\n",
       "      <td>Nature &amp; Wildlife Areas</td>\n",
       "      <td>5</td>\n",
       "      <td>21</td>\n",
       "      <td>163</td>\n",
       "      <td>4341.0</td>\n",
       "      <td>Guildford</td>\n",
       "      <td>Europe</td>\n",
       "      <td>United Kingdom</td>\n",
       "      <td>Western Europe</td>\n",
       "    </tr>\n",
       "    <tr>\n",
       "      <th>1</th>\n",
       "      <td>8</td>\n",
       "      <td>7567</td>\n",
       "      <td>2022</td>\n",
       "      <td>10</td>\n",
       "      <td>4</td>\n",
       "      <td>640</td>\n",
       "      <td>5</td>\n",
       "      <td>Friends</td>\n",
       "      <td>1</td>\n",
       "      <td>63</td>\n",
       "      <td>...</td>\n",
       "      <td>Jl. Monkey Forest, Ubud 80571 Indonesia</td>\n",
       "      <td>Nature &amp; Wildlife Areas</td>\n",
       "      <td>2</td>\n",
       "      <td>8</td>\n",
       "      <td>48</td>\n",
       "      <td>464.0</td>\n",
       "      <td>Ontario</td>\n",
       "      <td>America</td>\n",
       "      <td>Canada</td>\n",
       "      <td>Northern America</td>\n",
       "    </tr>\n",
       "    <tr>\n",
       "      <th>2</th>\n",
       "      <td>9</td>\n",
       "      <td>79069</td>\n",
       "      <td>2022</td>\n",
       "      <td>10</td>\n",
       "      <td>3</td>\n",
       "      <td>640</td>\n",
       "      <td>5</td>\n",
       "      <td>Family</td>\n",
       "      <td>1</td>\n",
       "      <td>63</td>\n",
       "      <td>...</td>\n",
       "      <td>Jl. Monkey Forest, Ubud 80571 Indonesia</td>\n",
       "      <td>Nature &amp; Wildlife Areas</td>\n",
       "      <td>2</td>\n",
       "      <td>9</td>\n",
       "      <td>54</td>\n",
       "      <td>774.0</td>\n",
       "      <td>Brazil</td>\n",
       "      <td>America</td>\n",
       "      <td>Brazil</td>\n",
       "      <td>South America</td>\n",
       "    </tr>\n",
       "    <tr>\n",
       "      <th>3</th>\n",
       "      <td>10</td>\n",
       "      <td>31019</td>\n",
       "      <td>2022</td>\n",
       "      <td>10</td>\n",
       "      <td>3</td>\n",
       "      <td>640</td>\n",
       "      <td>3</td>\n",
       "      <td>Family</td>\n",
       "      <td>1</td>\n",
       "      <td>63</td>\n",
       "      <td>...</td>\n",
       "      <td>Jl. Monkey Forest, Ubud 80571 Indonesia</td>\n",
       "      <td>Nature &amp; Wildlife Areas</td>\n",
       "      <td>5</td>\n",
       "      <td>17</td>\n",
       "      <td>135</td>\n",
       "      <td>583.0</td>\n",
       "      <td>Zurich</td>\n",
       "      <td>Europe</td>\n",
       "      <td>Switzerland</td>\n",
       "      <td>Central Europe</td>\n",
       "    </tr>\n",
       "    <tr>\n",
       "      <th>4</th>\n",
       "      <td>15</td>\n",
       "      <td>43611</td>\n",
       "      <td>2022</td>\n",
       "      <td>10</td>\n",
       "      <td>2</td>\n",
       "      <td>640</td>\n",
       "      <td>3</td>\n",
       "      <td>Couples</td>\n",
       "      <td>1</td>\n",
       "      <td>63</td>\n",
       "      <td>...</td>\n",
       "      <td>Jl. Monkey Forest, Ubud 80571 Indonesia</td>\n",
       "      <td>Nature &amp; Wildlife Areas</td>\n",
       "      <td>5</td>\n",
       "      <td>21</td>\n",
       "      <td>163</td>\n",
       "      <td>1396.0</td>\n",
       "      <td>Manchester</td>\n",
       "      <td>Europe</td>\n",
       "      <td>United Kingdom</td>\n",
       "      <td>Western Europe</td>\n",
       "    </tr>\n",
       "  </tbody>\n",
       "</table>\n",
       "<p>5 rows × 21 columns</p>\n",
       "</div>"
      ],
      "text/plain": [
       "   TransactionId  UserId  VisitYear  VisitMonth  VisitModeId  AttractionId  \\\n",
       "0              3   70456       2022          10            2           640   \n",
       "1              8    7567       2022          10            4           640   \n",
       "2              9   79069       2022          10            3           640   \n",
       "3             10   31019       2022          10            3           640   \n",
       "4             15   43611       2022          10            2           640   \n",
       "\n",
       "   Rating VisitMode  AttractionCityId AttractionTypeId  ...  \\\n",
       "0       5   Couples                 1               63  ...   \n",
       "1       5   Friends                 1               63  ...   \n",
       "2       5    Family                 1               63  ...   \n",
       "3       3    Family                 1               63  ...   \n",
       "4       3   Couples                 1               63  ...   \n",
       "\n",
       "                         AttractionAddress           AttractionType  \\\n",
       "0  Jl. Monkey Forest, Ubud 80571 Indonesia  Nature & Wildlife Areas   \n",
       "1  Jl. Monkey Forest, Ubud 80571 Indonesia  Nature & Wildlife Areas   \n",
       "2  Jl. Monkey Forest, Ubud 80571 Indonesia  Nature & Wildlife Areas   \n",
       "3  Jl. Monkey Forest, Ubud 80571 Indonesia  Nature & Wildlife Areas   \n",
       "4  Jl. Monkey Forest, Ubud 80571 Indonesia  Nature & Wildlife Areas   \n",
       "\n",
       "  ContinentId  RegionId  CountryId  CityId    CityName Continent  \\\n",
       "0           5        21        163  4341.0   Guildford    Europe   \n",
       "1           2         8         48   464.0     Ontario   America   \n",
       "2           2         9         54   774.0      Brazil   America   \n",
       "3           5        17        135   583.0      Zurich    Europe   \n",
       "4           5        21        163  1396.0  Manchester    Europe   \n",
       "\n",
       "          Country            Region  \n",
       "0  United Kingdom    Western Europe  \n",
       "1          Canada  Northern America  \n",
       "2          Brazil     South America  \n",
       "3     Switzerland    Central Europe  \n",
       "4  United Kingdom    Western Europe  \n",
       "\n",
       "[5 rows x 21 columns]"
      ]
     },
     "execution_count": 122,
     "metadata": {},
     "output_type": "execute_result"
    }
   ],
   "source": [
    "df = df.merge(users_full , on = 'UserId', how = 'left')\n",
    "df.head()"
   ]
  },
  {
   "cell_type": "code",
   "execution_count": 123,
   "id": "13caf3b9-fefc-4ea5-b84f-cc1b7b00305f",
   "metadata": {},
   "outputs": [
    {
     "data": {
      "text/plain": [
       "TransactionId        0\n",
       "UserId               0\n",
       "VisitYear            0\n",
       "VisitMonth           0\n",
       "VisitModeId          0\n",
       "AttractionId         0\n",
       "Rating               0\n",
       "VisitMode            0\n",
       "AttractionCityId     0\n",
       "AttractionTypeId     0\n",
       "Attraction           0\n",
       "AttractionAddress    0\n",
       "AttractionType       0\n",
       "ContinentId          0\n",
       "RegionId             0\n",
       "CountryId            0\n",
       "CityId               8\n",
       "CityName             8\n",
       "Continent            0\n",
       "Country              0\n",
       "Region               0\n",
       "dtype: int64"
      ]
     },
     "execution_count": 123,
     "metadata": {},
     "output_type": "execute_result"
    }
   ],
   "source": [
    "# check for the null vlaues \n",
    "df.isnull().sum()"
   ]
  },
  {
   "cell_type": "code",
   "execution_count": 124,
   "id": "224bfc0d-fd09-43cc-86ba-6b2997dce91f",
   "metadata": {},
   "outputs": [
    {
     "data": {
      "text/plain": [
       "(52930, 21)"
      ]
     },
     "execution_count": 124,
     "metadata": {},
     "output_type": "execute_result"
    }
   ],
   "source": [
    "df.shape"
   ]
  },
  {
   "cell_type": "code",
   "execution_count": 125,
   "id": "e250a379-b82f-4b9a-a741-78f70ca8aad6",
   "metadata": {},
   "outputs": [],
   "source": [
    "df.dropna(inplace = True)"
   ]
  },
  {
   "cell_type": "code",
   "execution_count": 126,
   "id": "96b67324-3269-45f6-9971-75cb9b663597",
   "metadata": {},
   "outputs": [
    {
     "data": {
      "text/plain": [
       "(52922, 21)"
      ]
     },
     "execution_count": 126,
     "metadata": {},
     "output_type": "execute_result"
    }
   ],
   "source": [
    "df.shape"
   ]
  },
  {
   "cell_type": "code",
   "execution_count": 127,
   "id": "b93054df-95ba-42df-98f6-d35ccdfdd035",
   "metadata": {},
   "outputs": [
    {
     "data": {
      "text/plain": [
       "False"
      ]
     },
     "execution_count": 127,
     "metadata": {},
     "output_type": "execute_result"
    }
   ],
   "source": [
    "df.isnull().sum().any()"
   ]
  },
  {
   "cell_type": "code",
   "execution_count": 128,
   "id": "cea1ba18-4203-4e98-b6c0-18f05904fea9",
   "metadata": {},
   "outputs": [
    {
     "data": {
      "text/plain": [
       "TransactionId          int64\n",
       "UserId                 int64\n",
       "VisitYear              int64\n",
       "VisitMonth             int64\n",
       "VisitModeId            int64\n",
       "AttractionId           int64\n",
       "Rating                 int64\n",
       "VisitMode             object\n",
       "AttractionCityId       int64\n",
       "AttractionTypeId      object\n",
       "Attraction            object\n",
       "AttractionAddress     object\n",
       "AttractionType        object\n",
       "ContinentId            int64\n",
       "RegionId               int64\n",
       "CountryId              int64\n",
       "CityId               float64\n",
       "CityName              object\n",
       "Continent             object\n",
       "Country               object\n",
       "Region                object\n",
       "dtype: object"
      ]
     },
     "execution_count": 128,
     "metadata": {},
     "output_type": "execute_result"
    }
   ],
   "source": [
    "# CHECK THE DATA TYPES \n",
    "df.dtypes"
   ]
  },
  {
   "cell_type": "code",
   "execution_count": 129,
   "id": "39fbf7b6-6523-4b33-91f0-85b8fb4a3863",
   "metadata": {},
   "outputs": [],
   "source": [
    "# Then convert to integer type\n",
    "df['CityId'] = df['CityId'].astype(int)\n",
    "df['AttractionTypeId'] = df['AttractionTypeId'].astype(int)\n"
   ]
  },
  {
   "cell_type": "code",
   "execution_count": 130,
   "id": "781b7112-6046-4da4-b11d-87603a428f74",
   "metadata": {},
   "outputs": [
    {
     "data": {
      "text/plain": [
       "TransactionId         int64\n",
       "UserId                int64\n",
       "VisitYear             int64\n",
       "VisitMonth            int64\n",
       "VisitModeId           int64\n",
       "AttractionId          int64\n",
       "Rating                int64\n",
       "VisitMode            object\n",
       "AttractionCityId      int64\n",
       "AttractionTypeId      int32\n",
       "Attraction           object\n",
       "AttractionAddress    object\n",
       "AttractionType       object\n",
       "ContinentId           int64\n",
       "RegionId              int64\n",
       "CountryId             int64\n",
       "CityId                int32\n",
       "CityName             object\n",
       "Continent            object\n",
       "Country              object\n",
       "Region               object\n",
       "dtype: object"
      ]
     },
     "execution_count": 130,
     "metadata": {},
     "output_type": "execute_result"
    }
   ],
   "source": [
    "df.dtypes"
   ]
  },
  {
   "cell_type": "code",
   "execution_count": 131,
   "id": "ef1c370c-d9de-4c2c-925f-634f597ba3eb",
   "metadata": {
    "scrolled": true
   },
   "outputs": [
    {
     "data": {
      "text/html": [
       "<div>\n",
       "<style scoped>\n",
       "    .dataframe tbody tr th:only-of-type {\n",
       "        vertical-align: middle;\n",
       "    }\n",
       "\n",
       "    .dataframe tbody tr th {\n",
       "        vertical-align: top;\n",
       "    }\n",
       "\n",
       "    .dataframe thead th {\n",
       "        text-align: right;\n",
       "    }\n",
       "</style>\n",
       "<table border=\"1\" class=\"dataframe\">\n",
       "  <thead>\n",
       "    <tr style=\"text-align: right;\">\n",
       "      <th></th>\n",
       "      <th>TransactionId</th>\n",
       "      <th>UserId</th>\n",
       "      <th>VisitYear</th>\n",
       "      <th>VisitMonth</th>\n",
       "      <th>VisitModeId</th>\n",
       "      <th>AttractionId</th>\n",
       "      <th>Rating</th>\n",
       "      <th>VisitMode</th>\n",
       "      <th>AttractionCityId</th>\n",
       "      <th>AttractionTypeId</th>\n",
       "      <th>...</th>\n",
       "      <th>AttractionAddress</th>\n",
       "      <th>AttractionType</th>\n",
       "      <th>ContinentId</th>\n",
       "      <th>RegionId</th>\n",
       "      <th>CountryId</th>\n",
       "      <th>CityId</th>\n",
       "      <th>CityName</th>\n",
       "      <th>Continent</th>\n",
       "      <th>Country</th>\n",
       "      <th>Region</th>\n",
       "    </tr>\n",
       "  </thead>\n",
       "  <tbody>\n",
       "    <tr>\n",
       "      <th>0</th>\n",
       "      <td>3</td>\n",
       "      <td>70456</td>\n",
       "      <td>2022</td>\n",
       "      <td>10</td>\n",
       "      <td>2</td>\n",
       "      <td>640</td>\n",
       "      <td>5</td>\n",
       "      <td>Couples</td>\n",
       "      <td>1</td>\n",
       "      <td>63</td>\n",
       "      <td>...</td>\n",
       "      <td>Jl. Monkey Forest, Ubud 80571 Indonesia</td>\n",
       "      <td>Nature &amp; Wildlife Areas</td>\n",
       "      <td>5</td>\n",
       "      <td>21</td>\n",
       "      <td>163</td>\n",
       "      <td>4341</td>\n",
       "      <td>Guildford</td>\n",
       "      <td>Europe</td>\n",
       "      <td>United Kingdom</td>\n",
       "      <td>Western Europe</td>\n",
       "    </tr>\n",
       "    <tr>\n",
       "      <th>1</th>\n",
       "      <td>8</td>\n",
       "      <td>7567</td>\n",
       "      <td>2022</td>\n",
       "      <td>10</td>\n",
       "      <td>4</td>\n",
       "      <td>640</td>\n",
       "      <td>5</td>\n",
       "      <td>Friends</td>\n",
       "      <td>1</td>\n",
       "      <td>63</td>\n",
       "      <td>...</td>\n",
       "      <td>Jl. Monkey Forest, Ubud 80571 Indonesia</td>\n",
       "      <td>Nature &amp; Wildlife Areas</td>\n",
       "      <td>2</td>\n",
       "      <td>8</td>\n",
       "      <td>48</td>\n",
       "      <td>464</td>\n",
       "      <td>Ontario</td>\n",
       "      <td>America</td>\n",
       "      <td>Canada</td>\n",
       "      <td>Northern America</td>\n",
       "    </tr>\n",
       "    <tr>\n",
       "      <th>2</th>\n",
       "      <td>9</td>\n",
       "      <td>79069</td>\n",
       "      <td>2022</td>\n",
       "      <td>10</td>\n",
       "      <td>3</td>\n",
       "      <td>640</td>\n",
       "      <td>5</td>\n",
       "      <td>Family</td>\n",
       "      <td>1</td>\n",
       "      <td>63</td>\n",
       "      <td>...</td>\n",
       "      <td>Jl. Monkey Forest, Ubud 80571 Indonesia</td>\n",
       "      <td>Nature &amp; Wildlife Areas</td>\n",
       "      <td>2</td>\n",
       "      <td>9</td>\n",
       "      <td>54</td>\n",
       "      <td>774</td>\n",
       "      <td>Brazil</td>\n",
       "      <td>America</td>\n",
       "      <td>Brazil</td>\n",
       "      <td>South America</td>\n",
       "    </tr>\n",
       "    <tr>\n",
       "      <th>3</th>\n",
       "      <td>10</td>\n",
       "      <td>31019</td>\n",
       "      <td>2022</td>\n",
       "      <td>10</td>\n",
       "      <td>3</td>\n",
       "      <td>640</td>\n",
       "      <td>3</td>\n",
       "      <td>Family</td>\n",
       "      <td>1</td>\n",
       "      <td>63</td>\n",
       "      <td>...</td>\n",
       "      <td>Jl. Monkey Forest, Ubud 80571 Indonesia</td>\n",
       "      <td>Nature &amp; Wildlife Areas</td>\n",
       "      <td>5</td>\n",
       "      <td>17</td>\n",
       "      <td>135</td>\n",
       "      <td>583</td>\n",
       "      <td>Zurich</td>\n",
       "      <td>Europe</td>\n",
       "      <td>Switzerland</td>\n",
       "      <td>Central Europe</td>\n",
       "    </tr>\n",
       "    <tr>\n",
       "      <th>4</th>\n",
       "      <td>15</td>\n",
       "      <td>43611</td>\n",
       "      <td>2022</td>\n",
       "      <td>10</td>\n",
       "      <td>2</td>\n",
       "      <td>640</td>\n",
       "      <td>3</td>\n",
       "      <td>Couples</td>\n",
       "      <td>1</td>\n",
       "      <td>63</td>\n",
       "      <td>...</td>\n",
       "      <td>Jl. Monkey Forest, Ubud 80571 Indonesia</td>\n",
       "      <td>Nature &amp; Wildlife Areas</td>\n",
       "      <td>5</td>\n",
       "      <td>21</td>\n",
       "      <td>163</td>\n",
       "      <td>1396</td>\n",
       "      <td>Manchester</td>\n",
       "      <td>Europe</td>\n",
       "      <td>United Kingdom</td>\n",
       "      <td>Western Europe</td>\n",
       "    </tr>\n",
       "  </tbody>\n",
       "</table>\n",
       "<p>5 rows × 21 columns</p>\n",
       "</div>"
      ],
      "text/plain": [
       "   TransactionId  UserId  VisitYear  VisitMonth  VisitModeId  AttractionId  \\\n",
       "0              3   70456       2022          10            2           640   \n",
       "1              8    7567       2022          10            4           640   \n",
       "2              9   79069       2022          10            3           640   \n",
       "3             10   31019       2022          10            3           640   \n",
       "4             15   43611       2022          10            2           640   \n",
       "\n",
       "   Rating VisitMode  AttractionCityId  AttractionTypeId  ...  \\\n",
       "0       5   Couples                 1                63  ...   \n",
       "1       5   Friends                 1                63  ...   \n",
       "2       5    Family                 1                63  ...   \n",
       "3       3    Family                 1                63  ...   \n",
       "4       3   Couples                 1                63  ...   \n",
       "\n",
       "                         AttractionAddress           AttractionType  \\\n",
       "0  Jl. Monkey Forest, Ubud 80571 Indonesia  Nature & Wildlife Areas   \n",
       "1  Jl. Monkey Forest, Ubud 80571 Indonesia  Nature & Wildlife Areas   \n",
       "2  Jl. Monkey Forest, Ubud 80571 Indonesia  Nature & Wildlife Areas   \n",
       "3  Jl. Monkey Forest, Ubud 80571 Indonesia  Nature & Wildlife Areas   \n",
       "4  Jl. Monkey Forest, Ubud 80571 Indonesia  Nature & Wildlife Areas   \n",
       "\n",
       "  ContinentId  RegionId  CountryId  CityId    CityName Continent  \\\n",
       "0           5        21        163    4341   Guildford    Europe   \n",
       "1           2         8         48     464     Ontario   America   \n",
       "2           2         9         54     774      Brazil   America   \n",
       "3           5        17        135     583      Zurich    Europe   \n",
       "4           5        21        163    1396  Manchester    Europe   \n",
       "\n",
       "          Country            Region  \n",
       "0  United Kingdom    Western Europe  \n",
       "1          Canada  Northern America  \n",
       "2          Brazil     South America  \n",
       "3     Switzerland    Central Europe  \n",
       "4  United Kingdom    Western Europe  \n",
       "\n",
       "[5 rows x 21 columns]"
      ]
     },
     "execution_count": 131,
     "metadata": {},
     "output_type": "execute_result"
    }
   ],
   "source": [
    "df.head()"
   ]
  },
  {
   "cell_type": "markdown",
   "id": "b172ddd0-e507-4df7-b1b4-a5901803d591",
   "metadata": {},
   "source": [
    "# EDA"
   ]
  },
  {
   "cell_type": "code",
   "execution_count": 132,
   "id": "124b4fdd-b8f0-4bb3-852f-d5973f437a35",
   "metadata": {},
   "outputs": [],
   "source": [
    "df['visit_day_of_year'] = pd.to_datetime(df['VisitYear'].astype(str) + '-' + df['VisitMonth'].astype(str) + '-01').dt.dayofyear\n"
   ]
  },
  {
   "cell_type": "code",
   "execution_count": 133,
   "id": "09429511-408a-4d41-ac42-bb167706221d",
   "metadata": {},
   "outputs": [
    {
     "data": {
      "text/html": [
       "<div>\n",
       "<style scoped>\n",
       "    .dataframe tbody tr th:only-of-type {\n",
       "        vertical-align: middle;\n",
       "    }\n",
       "\n",
       "    .dataframe tbody tr th {\n",
       "        vertical-align: top;\n",
       "    }\n",
       "\n",
       "    .dataframe thead th {\n",
       "        text-align: right;\n",
       "    }\n",
       "</style>\n",
       "<table border=\"1\" class=\"dataframe\">\n",
       "  <thead>\n",
       "    <tr style=\"text-align: right;\">\n",
       "      <th></th>\n",
       "      <th>TransactionId</th>\n",
       "      <th>UserId</th>\n",
       "      <th>VisitYear</th>\n",
       "      <th>VisitMonth</th>\n",
       "      <th>VisitModeId</th>\n",
       "      <th>AttractionId</th>\n",
       "      <th>Rating</th>\n",
       "      <th>VisitMode</th>\n",
       "      <th>AttractionCityId</th>\n",
       "      <th>AttractionTypeId</th>\n",
       "      <th>...</th>\n",
       "      <th>AttractionType</th>\n",
       "      <th>ContinentId</th>\n",
       "      <th>RegionId</th>\n",
       "      <th>CountryId</th>\n",
       "      <th>CityId</th>\n",
       "      <th>CityName</th>\n",
       "      <th>Continent</th>\n",
       "      <th>Country</th>\n",
       "      <th>Region</th>\n",
       "      <th>visit_day_of_year</th>\n",
       "    </tr>\n",
       "  </thead>\n",
       "  <tbody>\n",
       "    <tr>\n",
       "      <th>0</th>\n",
       "      <td>3</td>\n",
       "      <td>70456</td>\n",
       "      <td>2022</td>\n",
       "      <td>10</td>\n",
       "      <td>2</td>\n",
       "      <td>640</td>\n",
       "      <td>5</td>\n",
       "      <td>Couples</td>\n",
       "      <td>1</td>\n",
       "      <td>63</td>\n",
       "      <td>...</td>\n",
       "      <td>Nature &amp; Wildlife Areas</td>\n",
       "      <td>5</td>\n",
       "      <td>21</td>\n",
       "      <td>163</td>\n",
       "      <td>4341</td>\n",
       "      <td>Guildford</td>\n",
       "      <td>Europe</td>\n",
       "      <td>United Kingdom</td>\n",
       "      <td>Western Europe</td>\n",
       "      <td>274</td>\n",
       "    </tr>\n",
       "    <tr>\n",
       "      <th>1</th>\n",
       "      <td>8</td>\n",
       "      <td>7567</td>\n",
       "      <td>2022</td>\n",
       "      <td>10</td>\n",
       "      <td>4</td>\n",
       "      <td>640</td>\n",
       "      <td>5</td>\n",
       "      <td>Friends</td>\n",
       "      <td>1</td>\n",
       "      <td>63</td>\n",
       "      <td>...</td>\n",
       "      <td>Nature &amp; Wildlife Areas</td>\n",
       "      <td>2</td>\n",
       "      <td>8</td>\n",
       "      <td>48</td>\n",
       "      <td>464</td>\n",
       "      <td>Ontario</td>\n",
       "      <td>America</td>\n",
       "      <td>Canada</td>\n",
       "      <td>Northern America</td>\n",
       "      <td>274</td>\n",
       "    </tr>\n",
       "    <tr>\n",
       "      <th>2</th>\n",
       "      <td>9</td>\n",
       "      <td>79069</td>\n",
       "      <td>2022</td>\n",
       "      <td>10</td>\n",
       "      <td>3</td>\n",
       "      <td>640</td>\n",
       "      <td>5</td>\n",
       "      <td>Family</td>\n",
       "      <td>1</td>\n",
       "      <td>63</td>\n",
       "      <td>...</td>\n",
       "      <td>Nature &amp; Wildlife Areas</td>\n",
       "      <td>2</td>\n",
       "      <td>9</td>\n",
       "      <td>54</td>\n",
       "      <td>774</td>\n",
       "      <td>Brazil</td>\n",
       "      <td>America</td>\n",
       "      <td>Brazil</td>\n",
       "      <td>South America</td>\n",
       "      <td>274</td>\n",
       "    </tr>\n",
       "    <tr>\n",
       "      <th>3</th>\n",
       "      <td>10</td>\n",
       "      <td>31019</td>\n",
       "      <td>2022</td>\n",
       "      <td>10</td>\n",
       "      <td>3</td>\n",
       "      <td>640</td>\n",
       "      <td>3</td>\n",
       "      <td>Family</td>\n",
       "      <td>1</td>\n",
       "      <td>63</td>\n",
       "      <td>...</td>\n",
       "      <td>Nature &amp; Wildlife Areas</td>\n",
       "      <td>5</td>\n",
       "      <td>17</td>\n",
       "      <td>135</td>\n",
       "      <td>583</td>\n",
       "      <td>Zurich</td>\n",
       "      <td>Europe</td>\n",
       "      <td>Switzerland</td>\n",
       "      <td>Central Europe</td>\n",
       "      <td>274</td>\n",
       "    </tr>\n",
       "    <tr>\n",
       "      <th>4</th>\n",
       "      <td>15</td>\n",
       "      <td>43611</td>\n",
       "      <td>2022</td>\n",
       "      <td>10</td>\n",
       "      <td>2</td>\n",
       "      <td>640</td>\n",
       "      <td>3</td>\n",
       "      <td>Couples</td>\n",
       "      <td>1</td>\n",
       "      <td>63</td>\n",
       "      <td>...</td>\n",
       "      <td>Nature &amp; Wildlife Areas</td>\n",
       "      <td>5</td>\n",
       "      <td>21</td>\n",
       "      <td>163</td>\n",
       "      <td>1396</td>\n",
       "      <td>Manchester</td>\n",
       "      <td>Europe</td>\n",
       "      <td>United Kingdom</td>\n",
       "      <td>Western Europe</td>\n",
       "      <td>274</td>\n",
       "    </tr>\n",
       "  </tbody>\n",
       "</table>\n",
       "<p>5 rows × 22 columns</p>\n",
       "</div>"
      ],
      "text/plain": [
       "   TransactionId  UserId  VisitYear  VisitMonth  VisitModeId  AttractionId  \\\n",
       "0              3   70456       2022          10            2           640   \n",
       "1              8    7567       2022          10            4           640   \n",
       "2              9   79069       2022          10            3           640   \n",
       "3             10   31019       2022          10            3           640   \n",
       "4             15   43611       2022          10            2           640   \n",
       "\n",
       "   Rating VisitMode  AttractionCityId  AttractionTypeId  ...  \\\n",
       "0       5   Couples                 1                63  ...   \n",
       "1       5   Friends                 1                63  ...   \n",
       "2       5    Family                 1                63  ...   \n",
       "3       3    Family                 1                63  ...   \n",
       "4       3   Couples                 1                63  ...   \n",
       "\n",
       "            AttractionType ContinentId RegionId  CountryId  CityId  \\\n",
       "0  Nature & Wildlife Areas           5       21        163    4341   \n",
       "1  Nature & Wildlife Areas           2        8         48     464   \n",
       "2  Nature & Wildlife Areas           2        9         54     774   \n",
       "3  Nature & Wildlife Areas           5       17        135     583   \n",
       "4  Nature & Wildlife Areas           5       21        163    1396   \n",
       "\n",
       "     CityName  Continent         Country            Region visit_day_of_year  \n",
       "0   Guildford     Europe  United Kingdom    Western Europe               274  \n",
       "1     Ontario    America          Canada  Northern America               274  \n",
       "2      Brazil    America          Brazil     South America               274  \n",
       "3      Zurich     Europe     Switzerland    Central Europe               274  \n",
       "4  Manchester     Europe  United Kingdom    Western Europe               274  \n",
       "\n",
       "[5 rows x 22 columns]"
      ]
     },
     "execution_count": 133,
     "metadata": {},
     "output_type": "execute_result"
    }
   ],
   "source": [
    "df.head()"
   ]
  },
  {
   "cell_type": "code",
   "execution_count": 134,
   "id": "85f3084a-09f2-4a15-9f25-bafba318f990",
   "metadata": {},
   "outputs": [],
   "source": [
    "df['VisitModeAvgRating'] = df.groupby('VisitMode')['Rating'].transform('mean')"
   ]
  },
  {
   "cell_type": "code",
   "execution_count": 135,
   "id": "28226b7a-4be4-41b9-90bc-7938f3a4705b",
   "metadata": {},
   "outputs": [
    {
     "data": {
      "text/plain": [
       "Index(['TransactionId', 'UserId', 'VisitYear', 'VisitMonth', 'VisitModeId',\n",
       "       'AttractionId', 'Rating', 'VisitMode', 'AttractionCityId',\n",
       "       'AttractionTypeId', 'Attraction', 'AttractionAddress', 'AttractionType',\n",
       "       'ContinentId', 'RegionId', 'CountryId', 'CityId', 'CityName',\n",
       "       'Continent', 'Country', 'Region', 'visit_day_of_year',\n",
       "       'VisitModeAvgRating'],\n",
       "      dtype='object')"
      ]
     },
     "execution_count": 135,
     "metadata": {},
     "output_type": "execute_result"
    }
   ],
   "source": [
    "df.columns\n"
   ]
  },
  {
   "cell_type": "code",
   "execution_count": 136,
   "id": "2abfdefd-1915-4030-8b1d-7a15eeeb4680",
   "metadata": {},
   "outputs": [
    {
     "data": {
      "text/plain": [
       "False"
      ]
     },
     "execution_count": 136,
     "metadata": {},
     "output_type": "execute_result"
    }
   ],
   "source": [
    "df.isnull().sum().any()"
   ]
  },
  {
   "cell_type": "code",
   "execution_count": 137,
   "id": "a9c532b7-d18d-4705-adab-776494a680a7",
   "metadata": {
    "jp-MarkdownHeadingCollapsed": true
   },
   "outputs": [
    {
     "data": {
      "image/png": "[encoded data removed]",
      "text/plain": [
       "<Figure size 800x400 with 1 Axes>"
      ]
     },
     "metadata": {},
     "output_type": "display_data"
    }
   ],
   "source": [
    "# 1 most popular Visit Modes \n",
    "plt.figure(figsize = (8,4))\n",
    "sns.countplot(df,x= 'VisitMode' ,order  = df['VisitMode'].value_counts().index)\n",
    "plt.title('Most Popular Visit Modes')\n",
    "plt.show()"
   ]
  },
  {
   "cell_type": "code",
   "execution_count": 138,
   "id": "c2611321-96ee-4d35-90ce-b436aa10b987",
   "metadata": {},
   "outputs": [],
   "source": [
    "# most users are couples "
   ]
  },
  {
   "cell_type": "code",
   "execution_count": 139,
   "id": "9076c03f-5981-4a01-849c-84bf3772eebe",
   "metadata": {},
   "outputs": [
    {
     "data": {
      "image/png": "[encoded data removed]",
      "text/plain": [
       "<Figure size 1000x500 with 1 Axes>"
      ]
     },
     "metadata": {},
     "output_type": "display_data"
    }
   ],
   "source": [
    "# Top countries by Number of Tourists \n",
    "plt.figure(figsize = (10,5))\n",
    "top_countries = df['Country'].value_counts().head(10)\n",
    "sns.barplot(x = top_countries.values, y = top_countries.index,palette = 'viridis')\n",
    "plt.title(\"Top 10 Countries by Tourist Visits\")\n",
    "plt.xlabel(\"Number of Visitors\")\n",
    "plt.ylabel(\"Country\")\n",
    "plt.show()"
   ]
  },
  {
   "cell_type": "code",
   "execution_count": 140,
   "id": "bbe9d4aa-edd2-4811-a16c-c2f33f8e142f",
   "metadata": {},
   "outputs": [
    {
     "data": {
      "image/png": "[encoded data removed]",
      "text/plain": [
       "<Figure size 1000x500 with 1 Axes>"
      ]
     },
     "metadata": {},
     "output_type": "display_data"
    }
   ],
   "source": [
    "# Top continents  by Number of Tourists \n",
    "plt.figure(figsize = (10,5))\n",
    "top_continents = df['Continent'].value_counts()\n",
    "sns.barplot(x = top_continents.values, y = top_continents.index,palette = 'viridis')\n",
    "plt.title(\"Top 10 Continents by Tourist Visits\")\n",
    "plt.xlabel(\"Number of Visitors\")\n",
    "plt.ylabel(\"Continents\")\n",
    "plt.show()"
   ]
  },
  {
   "cell_type": "code",
   "execution_count": 141,
   "id": "924dd7ab-9eaa-4698-8e51-820b550bbb79",
   "metadata": {},
   "outputs": [
    {
     "data": {
      "image/png": "[encoded data removed]",
      "text/plain": [
       "<Figure size 1000x500 with 1 Axes>"
      ]
     },
     "metadata": {},
     "output_type": "display_data"
    }
   ],
   "source": [
    "# Top Regions by Number of Tourists \n",
    "plt.figure(figsize = (10,5))\n",
    "top_regions = df['Region'].value_counts().head()\n",
    "sns.barplot(x = top_regions.values, y = top_regions.index,palette = 'viridis')\n",
    "plt.title(\"Top 10 Regions by Tourist Visits\")\n",
    "plt.xlabel(\"Number of Visitors\")\n",
    "plt.ylabel(\"Regions\")\n",
    "plt.show()"
   ]
  },
  {
   "cell_type": "code",
   "execution_count": 142,
   "id": "736a6b30-de8e-4746-a426-73fbb6eb4f74",
   "metadata": {},
   "outputs": [
    {
     "data": {
      "image/png": "[encoded data removed]",
      "text/plain": [
       "<Figure size 1000x500 with 1 Axes>"
      ]
     },
     "metadata": {},
     "output_type": "display_data"
    }
   ],
   "source": [
    "# Top cities by Number of Tourists \n",
    "plt.figure(figsize = (10,5))\n",
    "top_cities = df['CityName'].value_counts().head(10)\n",
    "sns.barplot(x = top_cities.values, y = top_cities.index,palette = 'viridis')\n",
    "plt.title(\"Top 10 cities by Tourist Visits\")\n",
    "plt.xlabel(\"Number of Visitors\")\n",
    "plt.ylabel(\"cities\")\n",
    "plt.show()"
   ]
  },
  {
   "cell_type": "code",
   "execution_count": 143,
   "id": "6b701f3f-4fbc-4650-821f-368202f7400f",
   "metadata": {},
   "outputs": [
    {
     "data": {
      "image/png": "[encoded data removed]",
      "text/plain": [
       "<Figure size 800x400 with 1 Axes>"
      ]
     },
     "metadata": {},
     "output_type": "display_data"
    }
   ],
   "source": [
    "# 3. Average Rating by Visit Mode\n",
    "plt.figure(figsize=(8, 4))\n",
    "sns.barplot(data=df, x='VisitMode', y='Rating', estimator='mean', palette='coolwarm')\n",
    "plt.title(\"Average Rating by Visit Mode\")\n",
    "plt.show()"
   ]
  },
  {
   "cell_type": "code",
   "execution_count": 144,
   "id": "ac1c624d-4ea5-4c8e-8edc-d282a9736ee6",
   "metadata": {},
   "outputs": [
    {
     "data": {
      "image/png": "[encoded data removed]",
      "text/plain": [
       "<Figure size 1000x500 with 1 Axes>"
      ]
     },
     "metadata": {},
     "output_type": "display_data"
    }
   ],
   "source": [
    "# 5. Average City Ratings (Top 10 Cities)\n",
    "top_cities = df.groupby('CityName')['Rating'].mean().sort_values(ascending=False).head(10)\n",
    "plt.figure(figsize=(10, 5))\n",
    "sns.barplot(x=top_cities.values, y=top_cities.index, palette='viridis')\n",
    "plt.title(\"Top 10 Cities by Average Rating\")\n",
    "plt.xlabel(\"Average Rating\")\n",
    "plt.ylabel(\"City\")\n",
    "plt.show()"
   ]
  },
  {
   "cell_type": "code",
   "execution_count": 145,
   "id": "a40ad13f-efc8-4b6b-8bed-ebc13024a156",
   "metadata": {},
   "outputs": [
    {
     "data": {
      "image/png": "[encoded data removed]",
      "text/plain": [
       "<Figure size 1000x500 with 1 Axes>"
      ]
     },
     "metadata": {},
     "output_type": "display_data"
    }
   ],
   "source": [
    "# Top 10 Attraction Types by Average Rating\n",
    "top_attractions = df.groupby('AttractionType')['Rating'].mean().sort_values(ascending=False).head(10)\n",
    "plt.figure(figsize=(10, 5))\n",
    "sns.barplot(x=top_attractions.values, y=top_attractions.index, palette='mako')\n",
    "plt.title(\"Top 10 Attraction Types by Average Rating\")\n",
    "plt.xlabel(\"Average Rating\")\n",
    "plt.ylabel(\"Attraction Type\")\n",
    "plt.show()\n",
    "\n",
    "\n"
   ]
  },
  {
   "cell_type": "code",
   "execution_count": 146,
   "id": "242de121-b875-4092-b473-fa0288c9bd22",
   "metadata": {},
   "outputs": [
    {
     "data": {
      "image/png": "[encoded data removed]",
      "text/plain": [
       "<Figure size 1000x500 with 1 Axes>"
      ]
     },
     "metadata": {},
     "output_type": "display_data"
    }
   ],
   "source": [
    "# Visit Count per Attraction Type\n",
    "plt.figure(figsize=(10, 5))\n",
    "sns.countplot(data=df, y='AttractionType', order=df['AttractionType'].value_counts().index[:10], palette='rocket')\n",
    "plt.title(\"Most Visited Attraction Types\")\n",
    "plt.show()"
   ]
  },
  {
   "cell_type": "code",
   "execution_count": 147,
   "id": "81b0215a-d766-43bc-8858-f48370b58da3",
   "metadata": {},
   "outputs": [
    {
     "data": {
      "image/png": "[encoded data removed]",
      "text/plain": [
       "<Figure size 640x480 with 1 Axes>"
      ]
     },
     "metadata": {},
     "output_type": "display_data"
    }
   ],
   "source": [
    "\n",
    "# Top 10 highest-rated attractions\n",
    "top_attractions = df.groupby('Attraction')['Rating'].mean().sort_values().head(10)\n",
    "top_attractions.plot(kind='barh', color='green')\n",
    "plt.title(\"Top 10 Attractions by Average Rating\")\n",
    "plt.xlabel(\"Average Rating\")\n",
    "plt.show()"
   ]
  },
  {
   "cell_type": "code",
   "execution_count": 148,
   "id": "a236e0f7-e4a7-41c5-a643-de6887dff109",
   "metadata": {},
   "outputs": [
    {
     "data": {
      "image/png": "[encoded data removed]",
      "text/plain": [
       "<Figure size 1000x600 with 1 Axes>"
      ]
     },
     "metadata": {},
     "output_type": "display_data"
    },
    {
     "data": {
      "image/png": "[encoded data removed]",
      "text/plain": [
       "<Figure size 640x480 with 2 Axes>"
      ]
     },
     "metadata": {},
     "output_type": "display_data"
    }
   ],
   "source": [
    "# Cross tabulation\n",
    "mode_vs_continent = pd.crosstab(df['VisitMode'], df['Continent'])\n",
    "mode_vs_continent.plot(kind='bar', stacked=True, figsize=(10, 6))\n",
    "plt.title(\"Visit Mode Distribution by Continent\")\n",
    "plt.ylabel(\"Number of Users\")\n",
    "plt.show()\n",
    "\n",
    "# Heatmap for correlation\n",
    "sns.heatmap(pd.crosstab(df['VisitMode'], df['Country']), cmap=\"YlGnBu\")\n",
    "plt.title(\"Visit Mode vs Country Heatmap\")\n",
    "plt.show()\n"
   ]
  },
  {
   "cell_type": "code",
   "execution_count": 149,
   "id": "915f0ccd-9aea-4c42-993e-2e5f3d44b662",
   "metadata": {},
   "outputs": [],
   "source": [
    "df_work = df.copy()"
   ]
  },
  {
   "cell_type": "code",
   "execution_count": 155,
   "id": "9747211a-77b7-49dd-aec7-f71506ab81e1",
   "metadata": {},
   "outputs": [],
   "source": [
    "# Cyclical encoding of month \n",
    "df_work[\"Month_sin\"] = np.sin(2 * np.pi *df_work['VisitMonth'] / 12 )\n",
    "df_work[\"Month_cos\"] = np.cos(2 * np.pi * df_work[\"VisitMonth\"] / 12)\n",
    "\n",
    "season_map = {\n",
    "    12: \"Winter\", 1: \"Winter\", 2: \"Winter\",\n",
    "    3: \"Spring\", 4: \"Spring\", 5: \"Spring\",\n",
    "    6: \"Summer\", 7: \"Summer\", 8: \"Summer\",\n",
    "    9: \"Autumn\", 10: \"Autumn\", 11: \"Autumn\"\n",
    "}\n",
    "df_work[\"Season\"] = df_work[\"VisitMonth\"].map(season_map)"
   ]
  },
  {
   "cell_type": "code",
   "execution_count": 151,
   "id": "d2fb566e-0978-49f8-8700-555f1d8428e6",
   "metadata": {},
   "outputs": [],
   "source": [
    "#================================\n",
    "#  USER BEHAVIOR FEATURES\n",
    "# ================================\n",
    "user_stats = df_work.groupby(\"UserId\").agg(\n",
    "    user_total_visits=(\"TransactionId\", \"count\"),\n",
    "    user_avg_rating=(\"Rating\", \"mean\"),\n",
    "    user_unique_cities=(\"CityId\", \"nunique\"),\n",
    "    user_unique_attraction_types=(\"AttractionTypeId\", \"nunique\")\n",
    ").reset_index()\n",
    "\n",
    "df_work = df_work.merge(user_stats, on=\"UserId\", how=\"left\")\n",
    "\n",
    "# ================================\n",
    "# ATTRACTION POPULARITY FEATURES\n",
    "# ================================\n",
    "attraction_stats = df_work.groupby(\"AttractionId\").agg(\n",
    "    attraction_total_visits=(\"TransactionId\", \"count\"),\n",
    "    attraction_avg_rating=(\"Rating\", \"mean\")\n",
    ").reset_index()\n",
    "\n",
    "df_work = df_work.merge(attraction_stats, on=\"AttractionId\", how=\"left\")\n",
    "\n",
    "# ================================\n",
    "#  GEOGRAPHICAL POPULARITY FEATURES\n",
    "# ================================\n",
    "city_stats = df_work.groupby(\"CityId\").agg(\n",
    "    city_total_visits=(\"TransactionId\", \"count\")\n",
    ").reset_index()\n",
    "\n",
    "df_work = df_work.merge(city_stats, on=\"CityId\", how=\"left\")\n",
    "\n",
    "# ================================\n",
    "# ENCODING CATEGORICAL VARIABLES\n",
    "# ================================\n",
    "df_work = pd.get_dummies(\n",
    "    df_work, \n",
    "    columns=[\"VisitMode\", \"Continent\", \"AttractionType\", \"Season\"],  # Season added\n",
    "    drop_first=True\n",
    ")"
   ]
  },
  {
   "cell_type": "code",
   "execution_count": 152,
   "id": "3bc48ef1-0e63-4ca7-866d-f1d0427ccf85",
   "metadata": {},
   "outputs": [
    {
     "data": {
      "text/plain": [
       "Index(['TransactionId', 'UserId', 'VisitYear', 'VisitMonth', 'VisitModeId',\n",
       "       'AttractionId', 'Rating', 'VisitMode', 'AttractionCityId',\n",
       "       'AttractionTypeId', 'Attraction', 'AttractionAddress', 'AttractionType',\n",
       "       'ContinentId', 'RegionId', 'CountryId', 'CityId', 'CityName',\n",
       "       'Continent', 'Country', 'Region', 'visit_day_of_year',\n",
       "       'VisitModeAvgRating', 'Month_sin', 'Month_cos'],\n",
       "      dtype='object')"
      ]
     },
     "execution_count": 152,
     "metadata": {},
     "output_type": "execute_result"
    }
   ],
   "source": [
    "\n",
    "df.columns "
   ]
  },
  {
   "cell_type": "code",
   "execution_count": 153,
   "id": "cb424aec-f0e1-4b9e-87ca-3ac278ffdec3",
   "metadata": {},
   "outputs": [
    {
     "data": {
      "text/plain": [
       "Index(['TransactionId', 'UserId', 'VisitYear', 'VisitMonth', 'VisitModeId',\n",
       "       'AttractionId', 'Rating', 'AttractionCityId', 'AttractionTypeId',\n",
       "       'Attraction', 'AttractionAddress', 'ContinentId', 'RegionId',\n",
       "       'CountryId', 'CityId', 'CityName', 'Country', 'Region',\n",
       "       'visit_day_of_year', 'VisitModeAvgRating', 'user_total_visits',\n",
       "       'user_avg_rating', 'user_unique_cities', 'user_unique_attraction_types',\n",
       "       'attraction_total_visits', 'attraction_avg_rating', 'city_total_visits',\n",
       "       'VisitMode_Couples', 'VisitMode_Family', 'VisitMode_Friends',\n",
       "       'VisitMode_Solo', 'Continent_America', 'Continent_Asia',\n",
       "       'Continent_Australia & Oceania', 'Continent_Europe',\n",
       "       'AttractionType_Ballets', 'AttractionType_Beaches',\n",
       "       'AttractionType_Caverns & Caves',\n",
       "       'AttractionType_Flea & Street Markets', 'AttractionType_Historic Sites',\n",
       "       'AttractionType_History Museums', 'AttractionType_National Parks',\n",
       "       'AttractionType_Nature & Wildlife Areas',\n",
       "       'AttractionType_Neighborhoods',\n",
       "       'AttractionType_Points of Interest & Landmarks',\n",
       "       'AttractionType_Religious Sites', 'AttractionType_Spas',\n",
       "       'AttractionType_Speciality Museums', 'AttractionType_Volcanos',\n",
       "       'AttractionType_Water Parks', 'AttractionType_Waterfalls',\n",
       "       'Season_Spring', 'Season_Summer', 'Season_Winter'],\n",
       "      dtype='object')"
      ]
     },
     "execution_count": 153,
     "metadata": {},
     "output_type": "execute_result"
    }
   ],
   "source": [
    "df_work.columns"
   ]
  },
  {
   "cell_type": "code",
   "execution_count": 156,
   "id": "cf063840-7481-4cce-af05-86c192eb2006",
   "metadata": {},
   "outputs": [],
   "source": [
    "# List all selected features for regression\n",
    "feature_cols = [\n",
    "     'Month_sin', 'Month_cos', 'user_total_visits', \n",
    "     'user_unique_cities', 'user_unique_attraction_types',\n",
    "    'attraction_total_visits',  'city_total_visits',\n",
    "    'visit_day_of_year',\n",
    "    'VisitMode_Couples', 'VisitMode_Family', 'VisitMode_Friends', 'VisitMode_Solo',\n",
    "    'Continent_America', 'Continent_Asia', 'Continent_Australia & Oceania', 'Continent_Europe',\n",
    "    'AttractionType_Ballets', 'AttractionType_Beaches', 'AttractionType_Caverns & Caves',\n",
    "    'AttractionType_Flea & Street Markets', 'AttractionType_Historic Sites',\n",
    "    'AttractionType_History Museums', 'AttractionType_National Parks',\n",
    "    'AttractionType_Nature & Wildlife Areas', 'AttractionType_Neighborhoods',\n",
    "    'AttractionType_Points of Interest & Landmarks', 'AttractionType_Religious Sites',\n",
    "    'AttractionType_Spas', 'AttractionType_Speciality Museums', 'AttractionType_Volcanos',\n",
    "    'AttractionType_Water Parks', 'AttractionType_Waterfalls',\n",
    "    'Season_Spring', 'Season_Summer', 'Season_Winter'\n",
    "]\n",
    "\n",
    "X = df_work[feature_cols]\n",
    "y = df_work['Rating']\n"
   ]
  },
  {
   "cell_type": "code",
   "execution_count": 157,
   "id": "b3754d55-7420-43e8-bf5b-f8070ee2363b",
   "metadata": {},
   "outputs": [
    {
     "name": "stdout",
     "output_type": "stream",
     "text": [
      "Random Forest RMSE: 0.9129, R2: 0.1229\n",
      "XGBoost RMSE: 0.9134, R2: 0.1219\n"
     ]
    }
   ],
   "source": [
    "import pandas as pd\n",
    "import numpy as np\n",
    "from sklearn.model_selection import train_test_split\n",
    "from sklearn.ensemble import RandomForestRegressor\n",
    "from xgboost import XGBRegressor\n",
    "from sklearn.metrics import mean_squared_error, r2_score\n",
    "\n",
    "\n",
    "# split\n",
    "X_train, X_valid, y_train, y_valid = train_test_split(\n",
    "    X, y, test_size=0.2, random_state=42\n",
    ")\n",
    "\n",
    "# ---------------------------\n",
    "#  Random Forest Regression\n",
    "# ---------------------------\n",
    "rf_model = RandomForestRegressor(\n",
    "    n_estimators=100, max_depth=10, random_state=42, n_jobs=-1\n",
    ")\n",
    "rf_model.fit(X_train, y_train)\n",
    "rf_preds = rf_model.predict(X_valid)\n",
    "\n",
    "# Evaluation\n",
    "rf_rmse = mean_squared_error(y_valid, rf_preds, squared=False)\n",
    "rf_r2 = r2_score(y_valid, rf_preds)\n",
    "print(f\"Random Forest RMSE: {rf_rmse:.4f}, R2: {rf_r2:.4f}\")\n",
    "\n",
    "# ---------------------------\n",
    "#  XGBoost Regression\n",
    "# ---------------------------\n",
    "xgb_model = XGBRegressor(\n",
    "    n_estimators=100, max_depth=6, learning_rate=0.1, random_state=42, n_jobs=-1\n",
    ")\n",
    "xgb_model.fit(X_train, y_train)\n",
    "xgb_preds = xgb_model.predict(X_valid)\n",
    "\n",
    "# Evaluation\n",
    "xgb_rmse = mean_squared_error(y_valid, xgb_preds, squared=False)\n",
    "xgb_r2 = r2_score(y_valid, xgb_preds)\n",
    "print(f\"XGBoost RMSE: {xgb_rmse:.4f}, R2: {xgb_r2:.4f}\")\n"
   ]
  },
  {
   "cell_type": "code",
   "execution_count": 158,
   "id": "7f4931a2-62bb-4aa1-b399-7a856fbfc1dd",
   "metadata": {},
   "outputs": [
    {
     "data": {
      "text/plain": [
       "Index(['TransactionId', 'UserId', 'VisitYear', 'VisitMonth', 'VisitModeId',\n",
       "       'AttractionId', 'Rating', 'VisitMode', 'AttractionCityId',\n",
       "       'AttractionTypeId', 'Attraction', 'AttractionAddress', 'AttractionType',\n",
       "       'ContinentId', 'RegionId', 'CountryId', 'CityId', 'CityName',\n",
       "       'Continent', 'Country', 'Region', 'visit_day_of_year',\n",
       "       'VisitModeAvgRating', 'Month_sin', 'Month_cos'],\n",
       "      dtype='object')"
      ]
     },
     "execution_count": 158,
     "metadata": {},
     "output_type": "execute_result"
    }
   ],
   "source": [
    "df.columns "
   ]
  },
  {
   "cell_type": "code",
   "execution_count": 159,
   "id": "c89060dd-0d13-41b9-b0eb-bf7158d06803",
   "metadata": {},
   "outputs": [],
   "source": [
    "selected_features = [\n",
    "    # Time features\n",
    "    'VisitYear', 'VisitMonth', 'visit_day_of_year', 'Month_sin', 'Month_cos',\n",
    "    'Season_Spring', 'Season_Summer', 'Season_Winter',\n",
    "    \n",
    "    # User profile aggregates\n",
    "    'user_total_visits', 'user_avg_rating',\n",
    "    'user_unique_cities', 'user_unique_attraction_types',\n",
    "    \n",
    "    # Attraction-level features\n",
    "    'attraction_total_visits', 'attraction_avg_rating',\n",
    "    \n",
    "    # City-level features\n",
    "    'city_total_visits',\n",
    "    \n",
    "    # Encoded location features\n",
    "    'ContinentId', 'RegionId', 'CountryId', 'CityId',\n",
    "    'Continent_America', 'Continent_Asia',\n",
    "    'Continent_Australia & Oceania', 'Continent_Europe',\n",
    "    \n",
    "    # Encoded attraction types\n",
    "    'AttractionTypeId',\n",
    "    'AttractionType_Ballets', 'AttractionType_Beaches',\n",
    "    'AttractionType_Caverns & Caves', 'AttractionType_Flea & Street Markets',\n",
    "    'AttractionType_Historic Sites', 'AttractionType_History Museums',\n",
    "    'AttractionType_National Parks', 'AttractionType_Nature & Wildlife Areas',\n",
    "    'AttractionType_Neighborhoods', 'AttractionType_Points of Interest & Landmarks',\n",
    "    'AttractionType_Religious Sites', 'AttractionType_Spas',\n",
    "    'AttractionType_Speciality Museums', 'AttractionType_Volcanos',\n",
    "    'AttractionType_Water Parks', 'AttractionType_Waterfalls'\n",
    "]\n",
    "X= df_work[selected_features]\n",
    "y = df['VisitMode']"
   ]
  },
  {
   "cell_type": "code",
   "execution_count": 160,
   "id": "65dbcc46-82bb-4d2c-bc3c-df31e49ce824",
   "metadata": {},
   "outputs": [
    {
     "name": "stdout",
     "output_type": "stream",
     "text": [
      "Random Forest Accuracy: 0.49437883797827115\n",
      "              precision    recall  f1-score   support\n",
      "\n",
      "    Business       0.00      0.00      0.00       135\n",
      "     Couples       0.48      0.86      0.62      4337\n",
      "      Family       0.56      0.38      0.45      2995\n",
      "     Friends       0.44      0.14      0.22      2190\n",
      "        Solo       0.97      0.03      0.06       928\n",
      "\n",
      "    accuracy                           0.49     10585\n",
      "   macro avg       0.49      0.28      0.27     10585\n",
      "weighted avg       0.53      0.49      0.43     10585\n",
      "\n"
     ]
    }
   ],
   "source": [
    "from sklearn.ensemble import RandomForestClassifier\n",
    "from xgboost import XGBClassifier\n",
    "from sklearn.metrics import accuracy_score, classification_report\n",
    "\n",
    "\n",
    "\n",
    "X_train, X_valid, y_train, y_valid = train_test_split(X, y, test_size=0.2, random_state=42)\n",
    "\n",
    "# Random Forest Classifier\n",
    "rf_clf = RandomForestClassifier(n_estimators=100, max_depth=10, random_state=42, n_jobs=-1)\n",
    "rf_clf.fit(X_train, y_train)\n",
    "rf_preds = rf_clf.predict(X_valid)\n",
    "print(\"Random Forest Accuracy:\", accuracy_score(y_valid, rf_preds))\n",
    "print(classification_report(y_valid, rf_preds))\n",
    "\n"
   ]
  },
  {
   "cell_type": "code",
   "execution_count": 161,
   "id": "50c35b22-1ec1-4cfc-a923-da1f0049c547",
   "metadata": {},
   "outputs": [
    {
     "data": {
      "text/plain": [
       "'This is a common machine learning confusion:\\n\\nRandomForestClassifier can accept string class labels (like \"Business\", \"Couples\", etc.).\\n\\nXGBClassifier (from the classic xgboost package), by default, requires integer-encoded labels (0, 1, 2, 3, ...) for multiclass classification'"
      ]
     },
     "execution_count": 161,
     "metadata": {},
     "output_type": "execute_result"
    }
   ],
   "source": [
    "'''This is a common machine learning confusion:\n",
    "\n",
    "RandomForestClassifier can accept string class labels (like \"Business\", \"Couples\", etc.).\n",
    "\n",
    "XGBClassifier (from the classic xgboost package), by default, requires integer-encoded labels (0, 1, 2, 3, ...) for multiclass classification'''"
   ]
  },
  {
   "cell_type": "code",
   "execution_count": 162,
   "id": "c01c31c9-de49-48c5-a9ff-58486c653af6",
   "metadata": {},
   "outputs": [
    {
     "name": "stdout",
     "output_type": "stream",
     "text": [
      "XGBoost Accuracy: 0.504959848842702\n",
      "              precision    recall  f1-score   support\n",
      "\n",
      "    Business       1.00      0.07      0.12       135\n",
      "     Couples       0.49      0.83      0.62      4337\n",
      "      Family       0.55      0.44      0.49      2995\n",
      "     Friends       0.44      0.16      0.24      2190\n",
      "        Solo       0.77      0.06      0.11       928\n",
      "\n",
      "    accuracy                           0.50     10585\n",
      "   macro avg       0.65      0.31      0.32     10585\n",
      "weighted avg       0.53      0.50      0.45     10585\n",
      "\n"
     ]
    }
   ],
   "source": [
    "from sklearn.preprocessing import LabelEncoder\n",
    "\n",
    "# Fit encoder on all data, so mapping is consistent\n",
    "le = LabelEncoder()\n",
    "le.fit(y)   # y is your original Series\n",
    "y_train_enc = le.transform(y_train)\n",
    "y_valid_enc = le.transform(y_valid)\n",
    "\n",
    "# Train XGB with encoded targets\n",
    "xgb_clf.fit(X_train, y_train_enc)\n",
    "xgb_preds = xgb_clf.predict(X_valid)\n",
    "# To revert predictions to original names:\n",
    "xgb_preds_labels = le.inverse_transform(xgb_preds)\n",
    "\n",
    "print(\"XGBoost Accuracy:\", accuracy_score(y_valid, xgb_preds_labels))\n",
    "print(classification_report(y_valid, xgb_preds_labels))\n"
   ]
  },
  {
   "cell_type": "markdown",
   "id": "ce317702-787a-4861-8714-32aba77093cb",
   "metadata": {},
   "source": [
    "# RECOMMENDATION SYSTEMS "
   ]
  },
  {
   "cell_type": "code",
   "execution_count": 163,
   "id": "ee9885ef-f523-41c9-89ea-06941c88d2af",
   "metadata": {},
   "outputs": [],
   "source": [
    "from sklearn.metrics.pairwise import cosine_similarity\n",
    "from sklearn.feature_extraction.text import TfidfVectorizer\n",
    "import numpy as np"
   ]
  },
  {
   "cell_type": "code",
   "execution_count": 164,
   "id": "11565659-c0d3-4185-965c-021a931402cc",
   "metadata": {},
   "outputs": [],
   "source": [
    "\n",
    "#1. Collaborative Filtering\n",
    "\n",
    "# Create user-item rating matrix\n",
    "user_item_matrix = df.pivot_table(index='UserId', columns='AttractionId', values='Rating').fillna(0)\n",
    "\n",
    "# Compute similarity between users\n",
    "user_similarity = cosine_similarity(user_item_matrix)\n",
    "user_similarity_df = pd.DataFrame(user_similarity, index=user_item_matrix.index, columns=user_item_matrix.index)\n",
    "\n",
    "def recommend_collaborative(user_id, top_n=5):\n",
    "    # Get similar users\n",
    "    similar_users = user_similarity_df[user_id].sort_values(ascending=False).index[1:]  # skip self\n",
    "    # Aggregate their ratings\n",
    "    similar_users_ratings = user_item_matrix.loc[similar_users].mean(axis=0)\n",
    "    # Remove attractions already visited\n",
    "    visited = user_item_matrix.loc[user_id]\n",
    "    similar_users_ratings = similar_users_ratings[visited == 0]\n",
    "    return similar_users_ratings.sort_values(ascending=False).head(top_n).index.tolist()"
   ]
  },
  {
   "cell_type": "code",
   "execution_count": 165,
   "id": "d27ea01e-4de8-40ff-94e0-41da666d4b99",
   "metadata": {},
   "outputs": [
    {
     "name": "stdout",
     "output_type": "stream",
     "text": [
      "Collaborative Recommendations: [841, 748, 824, 737, 650]\n"
     ]
    }
   ],
   "source": [
    "sample_user = df['UserId'].iloc[0]\n",
    "\n",
    "print(\"Collaborative Recommendations:\", recommend_collaborative(sample_user))"
   ]
  },
  {
   "cell_type": "code",
   "execution_count": 167,
   "id": "604b83e3-0c2b-4b81-b7f7-c1154df44785",
   "metadata": {},
   "outputs": [],
   "source": [
    "\n",
    "# Content-Based Filtering\n",
    "\n",
    "# Create a combined features column\n",
    "df['combined_features'] = df['AttractionTypeId'].astype(str) + \" \" + df['AttractionCityId'].astype(str)\n",
    "\n",
    "# Remove duplicates per attraction\n",
    "attraction_features = df[['AttractionId', 'combined_features']].drop_duplicates().set_index('AttractionId')\n",
    "\n",
    "# TF-IDF Vectorization\n",
    "tfidf = TfidfVectorizer()\n",
    "tfidf_matrix = tfidf.fit_transform(attraction_features['combined_features'])\n",
    "\n",
    "# Cosine similarity between attractions\n",
    "attraction_similarity = cosine_similarity(tfidf_matrix)\n",
    "\n",
    "attraction_similarity_df = pd.DataFrame(attraction_similarity,\n",
    "                                        index=attraction_features.index,\n",
    "                                        columns=attraction_features.index)\n",
    "\n",
    "def recommend_content(user_id, top_n=5):\n",
    "    visited_attractions = user_item_matrix.loc[user_id][user_item_matrix.loc[user_id] > 0].index.tolist()\n",
    "    scores = pd.Series(dtype=float)\n",
    "    for attraction in visited_attractions:\n",
    "        scores = scores.add(pd.Series(attraction_similarity_df[attraction]), fill_value=0)\n",
    "    scores = scores.drop(visited_attractions, errors='ignore')\n",
    "    return scores.sort_values(ascending=False).head(top_n).index.tolist()\n"
   ]
  },
  {
   "cell_type": "code",
   "execution_count": 166,
   "id": "d2e8fd2e-87b3-4eb2-bb70-d202e3da2714",
   "metadata": {},
   "outputs": [],
   "source": [
    "\n",
    "# Hybrid Recommendation\n",
    "\n",
    "def recommend_hybrid(user_id, top_n=5):\n",
    "    collab_recs = recommend_collaborative(user_id, top_n*2)\n",
    "    content_recs = recommend_content(user_id, top_n*2)\n",
    "    combined = list(dict.fromkeys(collab_recs + content_recs))  # keep order, remove duplicates\n",
    "    return combined[:top_n]"
   ]
  },
  {
   "cell_type": "code",
   "execution_count": 169,
   "id": "a16b8cfe-808c-426f-b120-e3d24304b882",
   "metadata": {},
   "outputs": [
    {
     "name": "stdout",
     "output_type": "stream",
     "text": [
      "Collaborative Recommendations: [640, 748, 824, 737, 650]\n",
      "Content-Based Recommendations: [369, 937, 1280, 1278, 1238]\n",
      "Hybrid Recommendations: [640, 748, 824, 737, 650]\n"
     ]
    }
   ],
   "source": [
    "sample_user = df['UserId'].iloc[15246]\n",
    "\n",
    "print(\"Collaborative Recommendations:\", recommend_collaborative(sample_user))\n",
    "print(\"Content-Based Recommendations:\", recommend_content(sample_user))\n",
    "print(\"Hybrid Recommendations:\", recommend_hybrid(sample_user))"
   ]
  },
  {
   "cell_type": "code",
   "execution_count": null,
   "id": "6a32af22-70ea-4b16-b8f8-98e57086e5c0",
   "metadata": {},
   "outputs": [],
   "source": []
  },
  {
   "cell_type": "code",
   "execution_count": null,
   "id": "4ed39a14-a483-4ffb-ad12-ac60d4969ee5",
   "metadata": {},
   "outputs": [],
   "source": []
  },
  {
   "cell_type": "code",
   "execution_count": null,
   "id": "b4cc57e6-15dc-4a61-a6b2-4161e7ca44d2",
   "metadata": {},
   "outputs": [],
   "source": []
  },
  {
   "cell_type": "code",
   "execution_count": null,
   "id": "10ec59fa-3eca-4d2d-b502-42db924fbd8f",
   "metadata": {},
   "outputs": [],
   "source": []
  },
  {
   "cell_type": "code",
   "execution_count": null,
   "id": "c0769d34-5372-4881-af70-cf9acab945b0",
   "metadata": {},
   "outputs": [],
   "source": []
  },
  {
   "cell_type": "code",
   "execution_count": null,
   "id": "5c379b72-a60f-45be-8ffa-c4016a484d83",
   "metadata": {},
   "outputs": [],
   "source": []
  },
  {
   "cell_type": "code",
   "execution_count": null,
   "id": "d7acfb6b-836d-41bb-9f01-459e7a54bcc9",
   "metadata": {},
   "outputs": [],
   "source": []
  }
 ],
 "metadata": {
  "kernelspec": {
   "display_name": "Python [conda env:base] *",
   "language": "python",
   "name": "conda-base-py"
  },
  "language_info": {
   "codemirror_mode": {
    "name": "ipython",
    "version": 3
   },
   "file_extension": ".py",
   "mimetype": "text/x-python",
   "name": "python",
   "nbconvert_exporter": "python",
   "pygments_lexer": "ipython3",
   "version": "3.12.7"
  }
 },
 "nbformat": 4,
 "nbformat_minor": 5
}
